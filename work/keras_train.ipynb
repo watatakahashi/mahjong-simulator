{
 "cells": [
  {
   "cell_type": "markdown",
   "metadata": {
    "scrolled": false
   },
   "source": [
    "# kerasを使って2019年1月分のトレーニング"
   ]
  },
  {
   "cell_type": "code",
   "execution_count": 10,
   "metadata": {},
   "outputs": [],
   "source": [
    "import numpy as np\n",
    "import pandas as pd\n",
    "import pickle\n",
    "\n",
    "import keras\n",
    "from keras.models import Sequential\n",
    "from keras.layers import Dense, Dropout, Activation\n",
    "from keras.optimizers import SGD\n",
    "from sklearn import preprocessing\n",
    "from sklearn.model_selection import train_test_split"
   ]
  },
  {
   "cell_type": "code",
   "execution_count": 11,
   "metadata": {},
   "outputs": [],
   "source": [
    "train_df = pd.read_csv('data/201901.csv')\n",
    "train_df = train_df.drop('Unnamed: 0', axis=1)\n",
    "train_df = train_df[train_df.game == 7]\n",
    "train_df = train_df.drop(['east_end', 'north_end', 'south_end', 'west_end', 'game'], axis=1)"
   ]
  },
  {
   "cell_type": "code",
   "execution_count": 12,
   "metadata": {},
   "outputs": [
    {
     "data": {
      "text/html": [
       "<div>\n",
       "<style scoped>\n",
       "    .dataframe tbody tr th:only-of-type {\n",
       "        vertical-align: middle;\n",
       "    }\n",
       "\n",
       "    .dataframe tbody tr th {\n",
       "        vertical-align: top;\n",
       "    }\n",
       "\n",
       "    .dataframe thead th {\n",
       "        text-align: right;\n",
       "    }\n",
       "</style>\n",
       "<table border=\"1\" class=\"dataframe\">\n",
       "  <thead>\n",
       "    <tr style=\"text-align: right;\">\n",
       "      <th></th>\n",
       "      <th>east</th>\n",
       "      <th>north</th>\n",
       "      <th>south</th>\n",
       "      <th>west</th>\n",
       "      <th>game_result</th>\n",
       "    </tr>\n",
       "  </thead>\n",
       "  <tbody>\n",
       "    <tr>\n",
       "      <th>10</th>\n",
       "      <td>264</td>\n",
       "      <td>141</td>\n",
       "      <td>258</td>\n",
       "      <td>337</td>\n",
       "      <td>14</td>\n",
       "    </tr>\n",
       "    <tr>\n",
       "      <th>37</th>\n",
       "      <td>301</td>\n",
       "      <td>205</td>\n",
       "      <td>116</td>\n",
       "      <td>378</td>\n",
       "      <td>13</td>\n",
       "    </tr>\n",
       "    <tr>\n",
       "      <th>38</th>\n",
       "      <td>296</td>\n",
       "      <td>220</td>\n",
       "      <td>111</td>\n",
       "      <td>373</td>\n",
       "      <td>13</td>\n",
       "    </tr>\n",
       "    <tr>\n",
       "      <th>54</th>\n",
       "      <td>472</td>\n",
       "      <td>183</td>\n",
       "      <td>326</td>\n",
       "      <td>19</td>\n",
       "      <td>7</td>\n",
       "    </tr>\n",
       "    <tr>\n",
       "      <th>62</th>\n",
       "      <td>393</td>\n",
       "      <td>259</td>\n",
       "      <td>178</td>\n",
       "      <td>170</td>\n",
       "      <td>4</td>\n",
       "    </tr>\n",
       "    <tr>\n",
       "      <th>...</th>\n",
       "      <td>...</td>\n",
       "      <td>...</td>\n",
       "      <td>...</td>\n",
       "      <td>...</td>\n",
       "      <td>...</td>\n",
       "    </tr>\n",
       "    <tr>\n",
       "      <th>151490</th>\n",
       "      <td>187</td>\n",
       "      <td>61</td>\n",
       "      <td>371</td>\n",
       "      <td>381</td>\n",
       "      <td>23</td>\n",
       "    </tr>\n",
       "    <tr>\n",
       "      <th>151502</th>\n",
       "      <td>267</td>\n",
       "      <td>289</td>\n",
       "      <td>328</td>\n",
       "      <td>116</td>\n",
       "      <td>15</td>\n",
       "    </tr>\n",
       "    <tr>\n",
       "      <th>151511</th>\n",
       "      <td>191</td>\n",
       "      <td>173</td>\n",
       "      <td>324</td>\n",
       "      <td>312</td>\n",
       "      <td>9</td>\n",
       "    </tr>\n",
       "    <tr>\n",
       "      <th>151512</th>\n",
       "      <td>165</td>\n",
       "      <td>251</td>\n",
       "      <td>298</td>\n",
       "      <td>286</td>\n",
       "      <td>9</td>\n",
       "    </tr>\n",
       "    <tr>\n",
       "      <th>151513</th>\n",
       "      <td>165</td>\n",
       "      <td>274</td>\n",
       "      <td>275</td>\n",
       "      <td>286</td>\n",
       "      <td>9</td>\n",
       "    </tr>\n",
       "  </tbody>\n",
       "</table>\n",
       "<p>14009 rows × 5 columns</p>\n",
       "</div>"
      ],
      "text/plain": [
       "        east  north  south  west  game_result\n",
       "10       264    141    258   337           14\n",
       "37       301    205    116   378           13\n",
       "38       296    220    111   373           13\n",
       "54       472    183    326    19            7\n",
       "62       393    259    178   170            4\n",
       "...      ...    ...    ...   ...          ...\n",
       "151490   187     61    371   381           23\n",
       "151502   267    289    328   116           15\n",
       "151511   191    173    324   312            9\n",
       "151512   165    251    298   286            9\n",
       "151513   165    274    275   286            9\n",
       "\n",
       "[14009 rows x 5 columns]"
      ]
     },
     "execution_count": 12,
     "metadata": {},
     "output_type": "execute_result"
    }
   ],
   "source": [
    "train_df"
   ]
  },
  {
   "cell_type": "code",
   "execution_count": 13,
   "metadata": {},
   "outputs": [],
   "source": [
    "data_X = train_df.iloc[:, 0:4]\n",
    "data_y = train_df.iloc[:, 4]"
   ]
  },
  {
   "cell_type": "code",
   "execution_count": 14,
   "metadata": {},
   "outputs": [],
   "source": [
    "standard_scaler = preprocessing.StandardScaler()\n",
    "data_X = standard_scaler.fit_transform(data_X)"
   ]
  },
  {
   "cell_type": "code",
   "execution_count": 15,
   "metadata": {},
   "outputs": [],
   "source": [
    "train_X, test_X, train_y, test_y = train_test_split(data_X, data_y, test_size=0.3, random_state=123)"
   ]
  },
  {
   "cell_type": "code",
   "execution_count": 16,
   "metadata": {},
   "outputs": [
    {
     "data": {
      "text/plain": [
       "array([[-0.21071566,  0.60255329, -0.02946168, -0.29504215],\n",
       "       [ 0.10133241, -1.06160751,  2.50828249, -1.64340413],\n",
       "       [ 1.69530768, -1.68104514,  0.78594464, -1.01916247],\n",
       "       ...,\n",
       "       [-1.22276345,  3.64426943, -1.08616172, -0.97754636],\n",
       "       [ 0.4724166 ,  0.90764944, -0.36228059, -0.91096058],\n",
       "       [-0.53963119,  1.59180444, -0.92807274,  0.03788673]])"
      ]
     },
     "execution_count": 16,
     "metadata": {},
     "output_type": "execute_result"
    }
   ],
   "source": [
    "train_X"
   ]
  },
  {
   "cell_type": "code",
   "execution_count": 19,
   "metadata": {
    "scrolled": false
   },
   "outputs": [
    {
     "name": "stdout",
     "output_type": "stream",
     "text": [
      "Epoch 1/32\n",
      "77/77 [==============================] - 0s 6ms/step - loss: 3.0876 - accuracy: 0.1180 - val_loss: 2.9698 - val_accuracy: 0.1961\n",
      "Epoch 2/32\n",
      "77/77 [==============================] - 0s 5ms/step - loss: 2.8565 - accuracy: 0.2089 - val_loss: 2.7387 - val_accuracy: 0.2472\n",
      "Epoch 3/32\n",
      "77/77 [==============================] - 0s 5ms/step - loss: 2.6588 - accuracy: 0.2437 - val_loss: 2.6018 - val_accuracy: 0.2624\n",
      "Epoch 4/32\n",
      "77/77 [==============================] - 0s 4ms/step - loss: 2.5507 - accuracy: 0.2505 - val_loss: 2.5065 - val_accuracy: 0.2684\n",
      "Epoch 5/32\n",
      "77/77 [==============================] - 0s 4ms/step - loss: 2.4672 - accuracy: 0.2590 - val_loss: 2.4249 - val_accuracy: 0.2772\n",
      "Epoch 6/32\n",
      "77/77 [==============================] - 0s 5ms/step - loss: 2.4094 - accuracy: 0.2581 - val_loss: 2.3776 - val_accuracy: 0.2731\n",
      "Epoch 7/32\n",
      "77/77 [==============================] - 0s 5ms/step - loss: 2.3659 - accuracy: 0.2688 - val_loss: 2.3395 - val_accuracy: 0.2808\n",
      "Epoch 8/32\n",
      "77/77 [==============================] - 0s 5ms/step - loss: 2.3372 - accuracy: 0.2723 - val_loss: 2.3176 - val_accuracy: 0.2926\n",
      "Epoch 9/32\n",
      "77/77 [==============================] - 0s 4ms/step - loss: 2.3202 - accuracy: 0.2813 - val_loss: 2.3043 - val_accuracy: 0.2917\n",
      "Epoch 10/32\n",
      "77/77 [==============================] - 0s 4ms/step - loss: 2.3030 - accuracy: 0.2800 - val_loss: 2.2953 - val_accuracy: 0.2903\n",
      "Epoch 11/32\n",
      "77/77 [==============================] - 0s 4ms/step - loss: 2.2984 - accuracy: 0.2836 - val_loss: 2.2768 - val_accuracy: 0.2979\n",
      "Epoch 12/32\n",
      "77/77 [==============================] - 0s 5ms/step - loss: 2.2858 - accuracy: 0.2831 - val_loss: 2.2723 - val_accuracy: 0.2946\n",
      "Epoch 13/32\n",
      "77/77 [==============================] - 0s 5ms/step - loss: 2.2717 - accuracy: 0.2915 - val_loss: 2.2696 - val_accuracy: 0.2953\n",
      "Epoch 14/32\n",
      "77/77 [==============================] - 0s 5ms/step - loss: 2.2659 - accuracy: 0.2896 - val_loss: 2.2646 - val_accuracy: 0.2893\n",
      "Epoch 15/32\n",
      "77/77 [==============================] - 0s 4ms/step - loss: 2.2582 - accuracy: 0.2911 - val_loss: 2.2510 - val_accuracy: 0.2955\n",
      "Epoch 16/32\n",
      "77/77 [==============================] - 0s 5ms/step - loss: 2.2549 - accuracy: 0.2878 - val_loss: 2.2439 - val_accuracy: 0.2972\n",
      "Epoch 17/32\n",
      "77/77 [==============================] - 0s 5ms/step - loss: 2.2516 - accuracy: 0.2896 - val_loss: 2.2383 - val_accuracy: 0.2910\n",
      "Epoch 18/32\n",
      "77/77 [==============================] - 0s 6ms/step - loss: 2.2411 - accuracy: 0.2921 - val_loss: 2.2375 - val_accuracy: 0.2896\n",
      "Epoch 19/32\n",
      "77/77 [==============================] - 0s 4ms/step - loss: 2.2337 - accuracy: 0.2981 - val_loss: 2.2286 - val_accuracy: 0.2922\n",
      "Epoch 20/32\n",
      "77/77 [==============================] - 0s 5ms/step - loss: 2.2192 - accuracy: 0.3013 - val_loss: 2.2303 - val_accuracy: 0.2865\n",
      "Epoch 21/32\n",
      "77/77 [==============================] - 0s 5ms/step - loss: 2.2159 - accuracy: 0.3023 - val_loss: 2.2202 - val_accuracy: 0.2884\n",
      "Epoch 22/32\n",
      "77/77 [==============================] - 0s 4ms/step - loss: 2.2131 - accuracy: 0.3032 - val_loss: 2.2109 - val_accuracy: 0.2955\n",
      "Epoch 23/32\n",
      "77/77 [==============================] - 0s 4ms/step - loss: 2.2101 - accuracy: 0.3028 - val_loss: 2.2088 - val_accuracy: 0.2986\n",
      "Epoch 24/32\n",
      "77/77 [==============================] - 0s 5ms/step - loss: 2.1981 - accuracy: 0.2972 - val_loss: 2.2083 - val_accuracy: 0.2881\n",
      "Epoch 25/32\n",
      "77/77 [==============================] - 0s 5ms/step - loss: 2.1997 - accuracy: 0.2980 - val_loss: 2.2047 - val_accuracy: 0.2976\n",
      "Epoch 26/32\n",
      "77/77 [==============================] - 0s 6ms/step - loss: 2.1907 - accuracy: 0.3032 - val_loss: 2.1969 - val_accuracy: 0.2991\n",
      "Epoch 27/32\n",
      "77/77 [==============================] - 0s 4ms/step - loss: 2.1924 - accuracy: 0.3008 - val_loss: 2.1923 - val_accuracy: 0.3036\n",
      "Epoch 28/32\n",
      "77/77 [==============================] - 0s 5ms/step - loss: 2.1852 - accuracy: 0.3011 - val_loss: 2.1971 - val_accuracy: 0.2910\n",
      "Epoch 29/32\n",
      "77/77 [==============================] - 0s 5ms/step - loss: 2.1847 - accuracy: 0.3019 - val_loss: 2.1860 - val_accuracy: 0.3034\n",
      "Epoch 30/32\n",
      "77/77 [==============================] - 0s 5ms/step - loss: 2.1761 - accuracy: 0.3093 - val_loss: 2.1836 - val_accuracy: 0.2905\n",
      "Epoch 31/32\n",
      "77/77 [==============================] - 0s 4ms/step - loss: 2.1664 - accuracy: 0.3035 - val_loss: 2.1806 - val_accuracy: 0.2988\n",
      "Epoch 32/32\n",
      "77/77 [==============================] - 0s 5ms/step - loss: 2.1737 - accuracy: 0.3054 - val_loss: 2.1813 - val_accuracy: 0.2946\n"
     ]
    }
   ],
   "source": [
    "model = Sequential()\n",
    "# Dense(64) は，64個のhidden unitを持つ全結合層です．\n",
    "# 最初のlayerでは，想定する入力データshapeを指定する必要があり，ここでは20次元としてます．\n",
    "model.add(Dense(128, activation='relu', input_dim=4))\n",
    "model.add(Dropout(0.1))\n",
    "model.add(Dense(256, activation='relu'))\n",
    "model.add(Dropout(0.1))\n",
    "model.add(Dense(24, activation='softmax'))\n",
    "\n",
    "sgd = SGD(lr=0.01, decay=1e-6, momentum=0.9, nesterov=True)\n",
    "model.compile(loss='categorical_crossentropy',\n",
    "              optimizer=sgd,\n",
    "              metrics=['accuracy'])\n",
    "\n",
    "# history = model.fit(x.values, pd.get_dummies(y).values,epochs=20,batch_size=128)\n",
    "history = model.fit(train_X, pd.get_dummies(train_y).values,epochs=32, validation_data=(test_X, pd.get_dummies(test_y)), batch_size=128)\n",
    "# score = model.evaluate(x_test, y_test, batch_size=128)"
   ]
  },
  {
   "cell_type": "code",
   "execution_count": 25,
   "metadata": {
    "scrolled": false
   },
   "outputs": [
    {
     "data": {
      "text/plain": [
       "array([[0.22416872, 0.2723421 , 0.05197909, 0.01432255, 0.07351737,\n",
       "        0.01506102, 0.04791537, 0.08218122, 0.00497316, 0.00041538,\n",
       "        0.01000331, 0.00060073, 0.07763412, 0.01448002, 0.01682159,\n",
       "        0.00057312, 0.00790447, 0.00092029, 0.06598855, 0.00779397,\n",
       "        0.00773673, 0.00040509, 0.00182934, 0.00043273]], dtype=float32)"
      ]
     },
     "execution_count": 25,
     "metadata": {},
     "output_type": "execute_result"
    }
   ],
   "source": [
    "model.predict([[0.4, 0.2, 0.3 , 0.1]])"
   ]
  },
  {
   "cell_type": "code",
   "execution_count": 5,
   "metadata": {},
   "outputs": [
    {
     "data": {
      "text/plain": [
       "array([[ 1.47,  0.95,  2.26],\n",
       "       [ 1.83,  2.47,  3.46],\n",
       "       [ 0.41,  1.14,  0.73],\n",
       "       ...,\n",
       "       [-3.62, -2.09, -3.05],\n",
       "       [-2.4 ,  0.8 , -0.4 ],\n",
       "       [ 0.53,  2.52,  1.23]])"
      ]
     },
     "execution_count": 5,
     "metadata": {},
     "output_type": "execute_result"
    }
   ],
   "source": [
    "x.values"
   ]
  },
  {
   "cell_type": "code",
   "execution_count": 6,
   "metadata": {},
   "outputs": [
    {
     "data": {
      "text/plain": [
       "array([ 2,  0,  9, ..., 21, 13,  7])"
      ]
     },
     "execution_count": 6,
     "metadata": {},
     "output_type": "execute_result"
    }
   ],
   "source": [
    "y.values"
   ]
  },
  {
   "cell_type": "code",
   "execution_count": null,
   "metadata": {},
   "outputs": [],
   "source": []
  }
 ],
 "metadata": {
  "kernelspec": {
   "display_name": "Python 3",
   "language": "python",
   "name": "python3"
  },
  "language_info": {
   "codemirror_mode": {
    "name": "ipython",
    "version": 3
   },
   "file_extension": ".py",
   "mimetype": "text/x-python",
   "name": "python",
   "nbconvert_exporter": "python",
   "pygments_lexer": "ipython3",
   "version": "3.8.6"
  }
 },
 "nbformat": 4,
 "nbformat_minor": 4
}
