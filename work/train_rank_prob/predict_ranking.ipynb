{
 "metadata": {
  "language_info": {
   "codemirror_mode": {
    "name": "ipython",
    "version": 3
   },
   "file_extension": ".py",
   "mimetype": "text/x-python",
   "name": "python",
   "nbconvert_exporter": "python",
   "pygments_lexer": "ipython3",
   "version": "3.8.6"
  },
  "orig_nbformat": 2,
  "kernelspec": {
   "name": "python3",
   "display_name": "Python 3",
   "language": "python"
  }
 },
 "nbformat": 4,
 "nbformat_minor": 2,
 "cells": [
  {
   "cell_type": "code",
   "execution_count": 1,
   "metadata": {},
   "outputs": [],
   "source": [
    "import numpy as np\n",
    "import pandas as pd\n",
    "from sklearn.model_selection import train_test_split\n",
    "from sklearn.linear_model import LogisticRegression\n",
    "from sklearn import preprocessing\n",
    "import pickle\n",
    "\n",
    "np.set_printoptions(precision=3, suppress=True)"
   ]
  },
  {
   "source": [
    "# 予測実行クラス"
   ],
   "cell_type": "markdown",
   "metadata": {}
  },
  {
   "cell_type": "code",
   "execution_count": 2,
   "metadata": {},
   "outputs": [],
   "source": [
    "class Ranking:\n",
    "\n",
    "    def __init__(self, models=None):\n",
    "        \"\"\"\n",
    "        コンストラクタ\n",
    "        \"\"\"\n",
    "        self.models = models\n",
    "        self.coeff = 1000\n",
    "\n",
    "    def train(self):\n",
    "        df = pd.read_csv('../data/2019.csv')\n",
    "\n",
    "        # 前処理\n",
    "        df['0'] = (df.east - df.south) / self.coeff\n",
    "        df['1'] = (df.east - df.west) / self.coeff\n",
    "        df['2'] = (df.east - df.north) / self.coeff\n",
    "        df = df[['game', '0', '1', '2', 'game_result']]\n",
    "\n",
    "        # 学習\n",
    "        models = []\n",
    "\n",
    "        for i in range(8):\n",
    "            models.append(LogisticRegression(tol=1e-6,random_state=123, verbose=0))\n",
    "            model = models[-1]\n",
    "\n",
    "            x = df[df.game == i].iloc[:, 1:4]\n",
    "            y = df[df.game == i].iloc[:, 4]\n",
    "\n",
    "            x_train, x_test, y_train, y_test = train_test_split(x, y,test_size=0.1, random_state=123)\n",
    "            \n",
    "            model.fit(x_train, y_train)\n",
    "\n",
    "            print('{} Accuracy (train) :'.format(i), model.score(x_train, y_train))\n",
    "            print('{} Accuracy (test)  :'.format(i), model.score(x_test, y_test))\n",
    "\n",
    "        with open('score_predictor.bin', mode='wb') as f:\n",
    "            pickle.dump(models, f)\n",
    "            \n",
    "        self.models = models\n",
    "        print('学習完了')\n",
    "    \n",
    "    def predict(self, game_num, score):\n",
    "        \"\"\"\n",
    "        予測の実行\n",
    "        \"\"\"\n",
    "        # 入力値の作成\n",
    "        feature = np.array([[(score[0]-score[1])/self.coeff, (score[0]-score[2])/self.coeff, (score[0]-score[3])/self.coeff]])\n",
    "\n",
    "        # print('feature', feature)\n",
    "\n",
    "        # 予測\n",
    "        proba = self.models[game_num].predict_proba(feature)[0]\n",
    "\n",
    "        print('proba', proba)\n",
    "\n",
    "        # 各プレイヤーごとに1〜4位ごとの確率算出\n",
    "        return np.array([ \\\n",
    "                    [ \\\n",
    "                    proba[0]+proba[1]+proba[2]+proba[3]+proba[4]+proba[5], \\\n",
    "                    proba[6]+proba[7]+proba[12]+proba[13]+proba[18]+proba[19], \\\n",
    "                    proba[8]+proba[10]+proba[14]+proba[16]+proba[20]+proba[22], \\\n",
    "                    proba[9]+proba[11]+proba[15]+proba[17]+proba[21]+proba[23], \\\n",
    "                    ], \\\n",
    "                    [ \\\n",
    "                    proba[6]+proba[7]+proba[8]+proba[9]+proba[10]+proba[11], \\\n",
    "                    proba[0]+proba[1]+proba[14]+proba[15]+proba[20]+proba[21], \\\n",
    "                    proba[2]+proba[4]+proba[12]+proba[17]+proba[18]+proba[23], \\\n",
    "                    proba[3]+proba[5]+proba[13]+proba[16]+proba[19]+proba[22], \\\n",
    "                    ], \\\n",
    "                    [ \\\n",
    "                    proba[12]+proba[13]+proba[14]+proba[15]+proba[16]+proba[17], \\\n",
    "                    proba[2]+proba[3]+proba[8]+proba[9]+proba[22]+proba[23], \\\n",
    "                    proba[0]+proba[5]+proba[6]+proba[11]+proba[19]+proba[21], \\\n",
    "                    proba[1]+proba[4]+proba[7]+proba[10]+proba[18]+proba[20], \\\n",
    "                    ], \\\n",
    "                    [ \\\n",
    "                    proba[18]+proba[19]+proba[20]+proba[21]+proba[22]+proba[23], \\\n",
    "                    proba[4]+proba[5]+proba[10]+proba[11]+proba[16]+proba[17], \\\n",
    "                    proba[1]+proba[3]+proba[7]+proba[9]+proba[13]+proba[15], \\\n",
    "                    proba[0]+proba[2]+proba[6]+proba[8]+proba[12]+proba[14], \\\n",
    "                    ] \\\n",
    "                ])"
   ]
  },
  {
   "source": [
    "# テスト実行"
   ],
   "cell_type": "markdown",
   "metadata": {}
  },
  {
   "cell_type": "code",
   "execution_count": 3,
   "metadata": {},
   "outputs": [
    {
     "output_type": "stream",
     "name": "stdout",
     "text": [
      "0 Accuracy (train) : 0.0582199179088356\n",
      "0 Accuracy (test)  : 0.0618823910578325\n",
      "1 Accuracy (train) : 0.08539055230171329\n",
      "1 Accuracy (test)  : 0.08423645320197044\n",
      "2 Accuracy (train) : 0.10980619141864895\n",
      "2 Accuracy (test)  : 0.10485632666778692\n",
      "3 Accuracy (train) : 0.12939001848428835\n",
      "3 Accuracy (test)  : 0.1303378494254845\n",
      "4 Accuracy (train) : 0.1477042770977819\n",
      "4 Accuracy (test)  : 0.15134370579915135\n",
      "5 Accuracy (train) : 0.16496723267938276\n",
      "5 Accuracy (test)  : 0.16732617297908423\n",
      "6 Accuracy (train) : 0.18303057155516173\n",
      "6 Accuracy (test)  : 0.18779904306220097\n",
      "7 Accuracy (train) : 0.1749478192513079\n",
      "7 Accuracy (test)  : 0.16878048780487806\n",
      "学習完了\n",
      "proba [0.069 0.048 0.067 0.044 0.042 0.044 0.065 0.046 0.054 0.026 0.033 0.025\n",
      " 0.063 0.043 0.05  0.027 0.033 0.024 0.044 0.044 0.03  0.025 0.032 0.023]\n",
      "[[0.313 0.305 0.232 0.15 ]\n",
      " [0.248 0.249 0.264 0.239]\n",
      " [0.24  0.245 0.272 0.243]\n",
      " [0.199 0.201 0.233 0.368]]\n",
      "proba [0.103 0.071 0.069 0.03  0.047 0.027 0.102 0.076 0.059 0.015 0.034 0.016\n",
      " 0.068 0.026 0.051 0.018 0.015 0.011 0.053 0.031 0.035 0.016 0.016 0.009]\n",
      "[[0.347 0.356 0.211 0.086]\n",
      " [0.303 0.294 0.257 0.146]\n",
      " [0.189 0.199 0.295 0.317]\n",
      " [0.16  0.151 0.237 0.452]]\n",
      "proba [0.163 0.064 0.109 0.028 0.033 0.018 0.153 0.072 0.058 0.005 0.014 0.004\n",
      " 0.1   0.024 0.049 0.006 0.007 0.003 0.038 0.022 0.015 0.004 0.008 0.002]\n",
      "[[0.415 0.409 0.152 0.025]\n",
      " [0.307 0.302 0.286 0.106]\n",
      " [0.189 0.211 0.363 0.237]\n",
      " [0.09  0.079 0.199 0.632]]\n",
      "proba [0.02  0.002 0.108 0.157 0.004 0.048 0.009 0.001 0.021 0.004 0.    0.001\n",
      " 0.132 0.229 0.041 0.007 0.074 0.011 0.004 0.039 0.001 0.002 0.071 0.013]\n",
      "[[0.339 0.414 0.209 0.038]\n",
      " [0.037 0.073 0.272 0.617]\n",
      " [0.494 0.375 0.119 0.011]\n",
      " [0.13  0.137 0.4   0.333]]\n"
     ]
    }
   ],
   "source": [
    "r = Ranking()\n",
    "r.train()\n",
    "\n",
    "f = np.array([300, 250, 250, 200])\n",
    "result = r.predict(4, f)\n",
    "print(result)\n",
    "\n",
    "f = np.array([350, 300, 200, 150])\n",
    "result = r.predict(7, f)\n",
    "print(result)\n",
    "\n",
    "f = np.array([450, 300, 200, 50])\n",
    "result = r.predict(7, f)\n",
    "print(result)\n",
    "\n",
    "f = np.array([359, 5, 535, 101])\n",
    "result = r.predict(5, f)\n",
    "print(result)"
   ]
  },
  {
   "cell_type": "code",
   "execution_count": 4,
   "metadata": {},
   "outputs": [
    {
     "output_type": "execute_result",
     "data": {
      "text/plain": [
       "        game     0     1     2    3  game_result\n",
       "0          0  0.00  0.00  0.00  0.0           14\n",
       "1          0  0.58  0.58  1.16  0.0           14\n",
       "2          1  0.58 -0.22  1.96  0.0           14\n",
       "3          1  0.38 -0.22  1.66  0.0           14\n",
       "4          2  1.72  0.92  2.80  0.0           14\n",
       "...      ...   ...   ...   ...  ...          ...\n",
       "151520     2 -0.75  1.25  1.00  0.0            6\n",
       "151521     3 -2.11  2.51  1.00  0.0            6\n",
       "151522     4 -1.24  3.38  2.74  0.0            6\n",
       "151523     5 -1.24  2.58  3.54  0.0            6\n",
       "151524     5 -1.76  2.58  3.54  0.0            6\n",
       "\n",
       "[151525 rows x 6 columns]"
      ],
      "text/html": "<div>\n<style scoped>\n    .dataframe tbody tr th:only-of-type {\n        vertical-align: middle;\n    }\n\n    .dataframe tbody tr th {\n        vertical-align: top;\n    }\n\n    .dataframe thead th {\n        text-align: right;\n    }\n</style>\n<table border=\"1\" class=\"dataframe\">\n  <thead>\n    <tr style=\"text-align: right;\">\n      <th></th>\n      <th>game</th>\n      <th>0</th>\n      <th>1</th>\n      <th>2</th>\n      <th>3</th>\n      <th>game_result</th>\n    </tr>\n  </thead>\n  <tbody>\n    <tr>\n      <th>0</th>\n      <td>0</td>\n      <td>0.00</td>\n      <td>0.00</td>\n      <td>0.00</td>\n      <td>0.0</td>\n      <td>14</td>\n    </tr>\n    <tr>\n      <th>1</th>\n      <td>0</td>\n      <td>0.58</td>\n      <td>0.58</td>\n      <td>1.16</td>\n      <td>0.0</td>\n      <td>14</td>\n    </tr>\n    <tr>\n      <th>2</th>\n      <td>1</td>\n      <td>0.58</td>\n      <td>-0.22</td>\n      <td>1.96</td>\n      <td>0.0</td>\n      <td>14</td>\n    </tr>\n    <tr>\n      <th>3</th>\n      <td>1</td>\n      <td>0.38</td>\n      <td>-0.22</td>\n      <td>1.66</td>\n      <td>0.0</td>\n      <td>14</td>\n    </tr>\n    <tr>\n      <th>4</th>\n      <td>2</td>\n      <td>1.72</td>\n      <td>0.92</td>\n      <td>2.80</td>\n      <td>0.0</td>\n      <td>14</td>\n    </tr>\n    <tr>\n      <th>...</th>\n      <td>...</td>\n      <td>...</td>\n      <td>...</td>\n      <td>...</td>\n      <td>...</td>\n      <td>...</td>\n    </tr>\n    <tr>\n      <th>151520</th>\n      <td>2</td>\n      <td>-0.75</td>\n      <td>1.25</td>\n      <td>1.00</td>\n      <td>0.0</td>\n      <td>6</td>\n    </tr>\n    <tr>\n      <th>151521</th>\n      <td>3</td>\n      <td>-2.11</td>\n      <td>2.51</td>\n      <td>1.00</td>\n      <td>0.0</td>\n      <td>6</td>\n    </tr>\n    <tr>\n      <th>151522</th>\n      <td>4</td>\n      <td>-1.24</td>\n      <td>3.38</td>\n      <td>2.74</td>\n      <td>0.0</td>\n      <td>6</td>\n    </tr>\n    <tr>\n      <th>151523</th>\n      <td>5</td>\n      <td>-1.24</td>\n      <td>2.58</td>\n      <td>3.54</td>\n      <td>0.0</td>\n      <td>6</td>\n    </tr>\n    <tr>\n      <th>151524</th>\n      <td>5</td>\n      <td>-1.76</td>\n      <td>2.58</td>\n      <td>3.54</td>\n      <td>0.0</td>\n      <td>6</td>\n    </tr>\n  </tbody>\n</table>\n<p>151525 rows × 6 columns</p>\n</div>"
     },
     "metadata": {},
     "execution_count": 4
    }
   ],
   "source": [
    "df = pd.read_csv('../data/201901.csv')\n",
    "df['3'] = (df.east - df.east) / 100\n",
    "df['0'] = (df.east - df.south) / 100\n",
    "df['1'] = (df.east - df.west) / 100\n",
    "df['2'] = (df.east - df.north) / 100\n",
    "df = df[['game', '0', '1', '2', '3', 'game_result']]\n",
    "df"
   ]
  },
  {
   "cell_type": "code",
   "execution_count": 5,
   "metadata": {},
   "outputs": [
    {
     "output_type": "execute_result",
     "data": {
      "text/plain": [
       "        Unnamed: 0  east  game  north  south  west  east_end  south_end  \\\n",
       "0                0   250     0    250    250   250       264        268   \n",
       "1                1   308     0    192    250   250       264        268   \n",
       "2                2   308     1    112    250   330       264        268   \n",
       "3                3   293     1    127    255   315       264        268   \n",
       "4                4   386     2    106    214   294       264        268   \n",
       "...            ...   ...   ...    ...    ...   ...       ...        ...   \n",
       "151520      151520   285     2    185    360   160       359        577   \n",
       "151521      151521   285     3    185    496    34       359        577   \n",
       "151522      151522   372     4     98    496    34       359        577   \n",
       "151523      151523   372     5     18    496   114       359        577   \n",
       "151524      151524   359     5      5    535   101       359        577   \n",
       "\n",
       "        west_end  north_end  game_result  \n",
       "0            363        105           14  \n",
       "1            363        105           14  \n",
       "2            363        105           14  \n",
       "3            363        105           14  \n",
       "4            363        105           14  \n",
       "...          ...        ...          ...  \n",
       "151520       101        -37            6  \n",
       "151521       101        -37            6  \n",
       "151522       101        -37            6  \n",
       "151523       101        -37            6  \n",
       "151524       101        -37            6  \n",
       "\n",
       "[151525 rows x 11 columns]"
      ],
      "text/html": "<div>\n<style scoped>\n    .dataframe tbody tr th:only-of-type {\n        vertical-align: middle;\n    }\n\n    .dataframe tbody tr th {\n        vertical-align: top;\n    }\n\n    .dataframe thead th {\n        text-align: right;\n    }\n</style>\n<table border=\"1\" class=\"dataframe\">\n  <thead>\n    <tr style=\"text-align: right;\">\n      <th></th>\n      <th>Unnamed: 0</th>\n      <th>east</th>\n      <th>game</th>\n      <th>north</th>\n      <th>south</th>\n      <th>west</th>\n      <th>east_end</th>\n      <th>south_end</th>\n      <th>west_end</th>\n      <th>north_end</th>\n      <th>game_result</th>\n    </tr>\n  </thead>\n  <tbody>\n    <tr>\n      <th>0</th>\n      <td>0</td>\n      <td>250</td>\n      <td>0</td>\n      <td>250</td>\n      <td>250</td>\n      <td>250</td>\n      <td>264</td>\n      <td>268</td>\n      <td>363</td>\n      <td>105</td>\n      <td>14</td>\n    </tr>\n    <tr>\n      <th>1</th>\n      <td>1</td>\n      <td>308</td>\n      <td>0</td>\n      <td>192</td>\n      <td>250</td>\n      <td>250</td>\n      <td>264</td>\n      <td>268</td>\n      <td>363</td>\n      <td>105</td>\n      <td>14</td>\n    </tr>\n    <tr>\n      <th>2</th>\n      <td>2</td>\n      <td>308</td>\n      <td>1</td>\n      <td>112</td>\n      <td>250</td>\n      <td>330</td>\n      <td>264</td>\n      <td>268</td>\n      <td>363</td>\n      <td>105</td>\n      <td>14</td>\n    </tr>\n    <tr>\n      <th>3</th>\n      <td>3</td>\n      <td>293</td>\n      <td>1</td>\n      <td>127</td>\n      <td>255</td>\n      <td>315</td>\n      <td>264</td>\n      <td>268</td>\n      <td>363</td>\n      <td>105</td>\n      <td>14</td>\n    </tr>\n    <tr>\n      <th>4</th>\n      <td>4</td>\n      <td>386</td>\n      <td>2</td>\n      <td>106</td>\n      <td>214</td>\n      <td>294</td>\n      <td>264</td>\n      <td>268</td>\n      <td>363</td>\n      <td>105</td>\n      <td>14</td>\n    </tr>\n    <tr>\n      <th>...</th>\n      <td>...</td>\n      <td>...</td>\n      <td>...</td>\n      <td>...</td>\n      <td>...</td>\n      <td>...</td>\n      <td>...</td>\n      <td>...</td>\n      <td>...</td>\n      <td>...</td>\n      <td>...</td>\n    </tr>\n    <tr>\n      <th>151520</th>\n      <td>151520</td>\n      <td>285</td>\n      <td>2</td>\n      <td>185</td>\n      <td>360</td>\n      <td>160</td>\n      <td>359</td>\n      <td>577</td>\n      <td>101</td>\n      <td>-37</td>\n      <td>6</td>\n    </tr>\n    <tr>\n      <th>151521</th>\n      <td>151521</td>\n      <td>285</td>\n      <td>3</td>\n      <td>185</td>\n      <td>496</td>\n      <td>34</td>\n      <td>359</td>\n      <td>577</td>\n      <td>101</td>\n      <td>-37</td>\n      <td>6</td>\n    </tr>\n    <tr>\n      <th>151522</th>\n      <td>151522</td>\n      <td>372</td>\n      <td>4</td>\n      <td>98</td>\n      <td>496</td>\n      <td>34</td>\n      <td>359</td>\n      <td>577</td>\n      <td>101</td>\n      <td>-37</td>\n      <td>6</td>\n    </tr>\n    <tr>\n      <th>151523</th>\n      <td>151523</td>\n      <td>372</td>\n      <td>5</td>\n      <td>18</td>\n      <td>496</td>\n      <td>114</td>\n      <td>359</td>\n      <td>577</td>\n      <td>101</td>\n      <td>-37</td>\n      <td>6</td>\n    </tr>\n    <tr>\n      <th>151524</th>\n      <td>151524</td>\n      <td>359</td>\n      <td>5</td>\n      <td>5</td>\n      <td>535</td>\n      <td>101</td>\n      <td>359</td>\n      <td>577</td>\n      <td>101</td>\n      <td>-37</td>\n      <td>6</td>\n    </tr>\n  </tbody>\n</table>\n<p>151525 rows × 11 columns</p>\n</div>"
     },
     "metadata": {},
     "execution_count": 5
    }
   ],
   "source": [
    "df = pd.read_csv('../data/201901.csv')\n",
    "# df.describe()\n",
    "df"
   ]
  },
  {
   "cell_type": "code",
   "execution_count": null,
   "metadata": {},
   "outputs": [],
   "source": []
  }
 ]
}