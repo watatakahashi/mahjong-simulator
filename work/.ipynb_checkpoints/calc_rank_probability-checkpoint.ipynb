{
 "cells": [
  {
   "cell_type": "code",
   "execution_count": 1,
   "metadata": {},
   "outputs": [],
   "source": [
    "import pandas as pd\n",
    "import numpy as np\n",
    "import pickle\n",
    "from train_score import Ranking\n",
    "import os\n",
    "import openpyxl\n",
    "FNAME = '押し引きシミュレーター.xlsx'\n",
    "wb=openpyxl.load_workbook(FNAME)"
   ]
  },
  {
   "cell_type": "code",
   "execution_count": 2,
   "metadata": {},
   "outputs": [
    {
     "name": "stdout",
     "output_type": "stream",
     "text": [
      "[[0.01852227 0.07816544 0.23551726 0.66779503]\n",
      " [0.2016137  0.32589567 0.32117192 0.15131872]\n",
      " [0.54311715 0.31475855 0.12272569 0.01939862]\n",
      " [0.23674688 0.28118035 0.32058514 0.16148764]]\n"
     ]
    }
   ],
   "source": [
    "p = pickle.load(open('score_predictor.bin', 'rb'))\n",
    "f = np.array([12000, 25000, 37000, 25000])\n",
    "r = Ranking(p)\n",
    "ret = r.predict(1, f)\n",
    "print(ret)"
   ]
  },
  {
   "cell_type": "code",
   "execution_count": 3,
   "metadata": {},
   "outputs": [],
   "source": [
    "def main():\n",
    "    result, point = calc_rank_probability(0, [2800, 24400, 37300, 35500], 1000, 40, 3)\n",
    "\n",
    "    display(result)\n",
    "    display(point)\n",
    "\n",
    "    # シートへの書き込み\n",
    "    sheet = wb['入力項目']\n",
    "    ROW_START = 17\n",
    "    COL_START = 2\n",
    "    for row in range(6):\n",
    "        # 4人の素点\n",
    "        for col in range(4):\n",
    "            sheet.cell(ROW_START + row, COL_START + col).value = point[roｗ][col]\n",
    "        # 各順位の確率\n",
    "        for col in range(4):\n",
    "            sheet.cell(ROW_START + row, COL_START + 5 + col).value = result[roｗ][col]\n",
    "    \n",
    "    wb.save(FNAME)"
   ]
  },
  {
   "cell_type": "code",
   "execution_count": 4,
   "metadata": {},
   "outputs": [],
   "source": [
    "# P1を親、P2（自分）を子想定\n",
    "\n",
    "def calc_rank_probability(count, point_list, deposit, hu, han):\n",
    "    \"\"\"\n",
    "    point_list: 4人の点数\n",
    "    deposit: 供託\n",
    "    hu: 自分アガリ時の符\n",
    "    han: 自分アガリ時の翻数\n",
    "    \"\"\"\n",
    "    p = pickle.load(open('score_predictor.bin', 'rb'))\n",
    "    r = Ranking(p)\n",
    "    \n",
    "#     自分をP2、相手(親)をP1とする\n",
    "    P1 = point_list[0]\n",
    "    P2 = point_list[1]\n",
    "    P3 = point_list[2]\n",
    "    P4 = point_list[3]\n",
    "    DEPOSIT = deposit\n",
    "    \n",
    "    result = []\n",
    "    point = []\n",
    "    \n",
    "#     自分の点数を求める\n",
    "    tensu_df = pd.read_csv('点数表.csv')\n",
    "    df = tensu_df[(tensu_df['符'] == hu) & (tensu_df['翻数'] == han)]\n",
    "    display(df)\n",
    "    \n",
    "    # P2のツモ\n",
    "    p1 = P1 - df['子ツモ親'].values[0]\n",
    "    p2 = P2 + df['子ツモ親'].values[0] + df['子ツモ子'].values[0] * 2 + DEPOSIT\n",
    "    p3 = P3 - df['子ツモ子'].values[0]\n",
    "    p4 = P4 - df['子ツモ子'].values[0]\n",
    "    \n",
    "    f = np.array([p1, p2, p3, p4])\n",
    "    ret = r.predict(count, f)\n",
    "#     print(ret)\n",
    "    result.append(ret[1])\n",
    "    point.append([p1, p2, p3, p4])\n",
    "    \n",
    "    # P2のロン\n",
    "    p1 = P1 - df['子ロン'].values[0]\n",
    "    p2 = P2 +  df['子ロン'].values[0]  + DEPOSIT\n",
    "    p3 = P3\n",
    "    p4 = P4\n",
    "    \n",
    "    f = np.array([p1, p2, p3, p4])\n",
    "    ret = r.predict(count, f)\n",
    "#     print(ret)\n",
    "    result.append(ret[1])\n",
    "    point.append([p1, p2, p3, p4])\n",
    "    \n",
    "    \n",
    "    # P1のツモ\n",
    "\n",
    "# 対子供\n",
    "    p1 = P1 + 7000 + DEPOSIT\n",
    "    p2 = P2 - 1700\n",
    "    p3 = P3 - 1700\n",
    "    p4 = P4 - 3600\n",
    "\n",
    "# 対親場合\n",
    "#     p1 = P1 + 9900 + DEPOSIT\n",
    "#     p2 = P2 - 3300\n",
    "#     p3 = P3 - 3300\n",
    "#     p4 = P4 - 3300\n",
    "\n",
    "    f = np.array([p1, p2, p3, p4])\n",
    "#     ret = r.predict(0, f)\n",
    "    ret = r.predict(count, f)\n",
    "    result.append(ret[1])\n",
    "    point.append([p1, p2, p3, p4])\n",
    "    \n",
    "    \n",
    "    # P1のロン\n",
    "\n",
    "# 対子供\n",
    "    p1 = P1 + 5300 + DEPOSIT\n",
    "    p2 = P2 - 5300\n",
    "    p3 = P3\n",
    "    p4 = P4\n",
    "\n",
    "# 対親\n",
    "#     p1 = P1 + 7500 + DEPOSIT\n",
    "#     p2 = P2 - 7500\n",
    "#     p3 = P3\n",
    "#     p4 = P4\n",
    "\n",
    "    f = np.array([p1, p2, p3, p4])\n",
    "#     ret = r.predict(0, f)\n",
    "    ret = r.predict(count, f)\n",
    "    result.append(ret[1])\n",
    "    point.append([p1, p2, p3, p4])\n",
    "    \n",
    "    \n",
    "    # テンパイ流局\n",
    "    p1 = P1+ 1500\n",
    "    p2 = P2 + 1500\n",
    "    p3 = P3 -  1500\n",
    "    p4 = P4 - 1500\n",
    "    f = np.array([p1, p2, p3, p4])\n",
    "#     ret = r.predict(0, f)\n",
    "    ret = r.predict(count, f)\n",
    "\n",
    "    result.append(ret[1])\n",
    "    point.append([p1, p2, p3, p4])\n",
    "    \n",
    "    \n",
    "    # ノーテン流局\n",
    "    p1 = P1 + 3000\n",
    "    p2 = P2 - 1000\n",
    "    p3 = P3 -  1000\n",
    "    p4 = P4 - 1000\n",
    "    f = np.array([p1, p2, p3, p4])\n",
    "#     ret = r.predict(0, f)\n",
    "    ret = r.predict(count, f)\n",
    "    result.append(ret[1])\n",
    "    point.append([p1, p2, p3, p4])\n",
    "    \n",
    "    \n",
    "#     display(result)\n",
    "    return result, point"
   ]
  },
  {
   "cell_type": "code",
   "execution_count": 5,
   "metadata": {},
   "outputs": [
    {
     "data": {
      "text/html": [
       "<div>\n",
       "<style scoped>\n",
       "    .dataframe tbody tr th:only-of-type {\n",
       "        vertical-align: middle;\n",
       "    }\n",
       "\n",
       "    .dataframe tbody tr th {\n",
       "        vertical-align: top;\n",
       "    }\n",
       "\n",
       "    .dataframe thead th {\n",
       "        text-align: right;\n",
       "    }\n",
       "</style>\n",
       "<table border=\"1\" class=\"dataframe\">\n",
       "  <thead>\n",
       "    <tr style=\"text-align: right;\">\n",
       "      <th></th>\n",
       "      <th>符</th>\n",
       "      <th>翻数</th>\n",
       "      <th>親ツモ</th>\n",
       "      <th>親ロン</th>\n",
       "      <th>子ツモ親</th>\n",
       "      <th>子ツモ子</th>\n",
       "      <th>子ロン</th>\n",
       "    </tr>\n",
       "  </thead>\n",
       "  <tbody>\n",
       "    <tr>\n",
       "      <th>8</th>\n",
       "      <td>30</td>\n",
       "      <td>3</td>\n",
       "      <td>2000.0</td>\n",
       "      <td>5800.0</td>\n",
       "      <td>2000.0</td>\n",
       "      <td>1000.0</td>\n",
       "      <td>3900.0</td>\n",
       "    </tr>\n",
       "  </tbody>\n",
       "</table>\n",
       "</div>"
      ],
      "text/plain": [
       "    符  翻数     親ツモ     親ロン    子ツモ親    子ツモ子     子ロン\n",
       "8  30   3  2000.0  5800.0  2000.0  1000.0  3900.0"
      ]
     },
     "metadata": {},
     "output_type": "display_data"
    },
    {
     "data": {
      "text/plain": [
       "[array([0.21032741, 0.39542353, 0.27383485, 0.12041421]),\n",
       " array([0.19910096, 0.40328809, 0.28153774, 0.1160732 ]),\n",
       " array([0.18099931, 0.31963887, 0.26740834, 0.23195347]),\n",
       " array([0.14044739, 0.32445349, 0.26398315, 0.27111598]),\n",
       " array([0.19578784, 0.37373756, 0.27121988, 0.15925472]),\n",
       " array([0.1762026 , 0.36005773, 0.27199548, 0.19174419])]"
      ]
     },
     "metadata": {},
     "output_type": "display_data"
    },
    {
     "data": {
      "text/plain": [
       "[[800.0, 29400.0, 36300.0, 34500.0],\n",
       " [-1100.0, 29300.0, 37300, 35500],\n",
       " [10800, 22700, 35600, 31900],\n",
       " [9100, 19100, 37300, 35500],\n",
       " [4300, 25900, 35800, 34000],\n",
       " [5800, 23400, 36300, 34500]]"
      ]
     },
     "metadata": {},
     "output_type": "display_data"
    }
   ],
   "source": [
    "main()"
   ]
  },
  {
   "cell_type": "code",
   "execution_count": null,
   "metadata": {},
   "outputs": [],
   "source": []
  },
  {
   "cell_type": "code",
   "execution_count": null,
   "metadata": {},
   "outputs": [],
   "source": []
  }
 ],
 "metadata": {
  "kernelspec": {
   "display_name": "Python 3",
   "language": "python",
   "name": "python3"
  },
  "language_info": {
   "codemirror_mode": {
    "name": "ipython",
    "version": 3
   },
   "file_extension": ".py",
   "mimetype": "text/x-python",
   "name": "python",
   "nbconvert_exporter": "python",
   "pygments_lexer": "ipython3",
   "version": "3.8.6"
  }
 },
 "nbformat": 4,
 "nbformat_minor": 4
}
