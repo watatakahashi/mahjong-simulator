{
 "cells": [
  {
   "cell_type": "code",
   "execution_count": 1,
   "metadata": {},
   "outputs": [],
   "source": [
    "import numpy as np\n",
    "import pandas as pd\n",
    "from sklearn.model_selection import train_test_split\n",
    "from sklearn.linear_model import LogisticRegression\n",
    "import pickle"
   ]
  },
  {
   "cell_type": "code",
   "execution_count": 2,
   "metadata": {},
   "outputs": [],
   "source": [
    "df = pd.read_csv('score.csv', header=None)"
   ]
  },
  {
   "cell_type": "markdown",
   "metadata": {},
   "source": [
    "# 鳳凰卓東風戦順位データ\n",
    "- 0〜3→東家点数\n",
    "- 4~7→最終点数\n",
    "- 8→？？？(1しかない)\n",
    "- 9~11→0視点との点差(万点)\n",
    "- 12→ABCDさんの順位パターン全24通り(0~23)のうちどれだったか（actual）、最終的に予測するもの\n",
    "- 13→東N局(0~3)"
   ]
  },
  {
   "cell_type": "code",
   "execution_count": 3,
   "metadata": {},
   "outputs": [
    {
     "output_type": "execute_result",
     "data": {
      "text/plain": [
       "         0    1    2    3    4    5    6    7   8     9     10    11  12  13\n",
       "0       250  250  250  250  382  216  268  134   1  0.00  0.00  0.00   2   0\n",
       "1       245  261  247  247  382  216  268  134   1 -0.16 -0.02 -0.02   2   1\n",
       "2       235  310  247  208  382  216  268  134   1 -0.75 -0.12  0.27   2   1\n",
       "3       325  220  247  208  382  216  268  134   1  1.05  0.78  1.17   2   2\n",
       "4       325  220  272  183  382  216  268  134   1  1.05  0.53  1.42   2   2\n",
       "...     ...  ...  ...  ...  ...  ...  ...  ...  ..   ...   ...   ...  ..  ..\n",
       "206607  200  440  120  240  220  420  120  240   1 -2.40  0.80 -0.40  13   3\n",
       "206608  250  250  250  250  357  384  105  154   1  0.00  0.00  0.00   7   0\n",
       "206609  250  340  160  250  357  384  105  154   1 -0.90  0.90  0.00   7   1\n",
       "206610  265  325  145  255  357  384  105  154   1 -0.60  1.20  0.10   7   2\n",
       "206611  357  304  105  234  357  384  105  154   1  0.53  2.52  1.23   7   3\n",
       "\n",
       "[206612 rows x 14 columns]"
      ],
      "text/html": "<div>\n<style scoped>\n    .dataframe tbody tr th:only-of-type {\n        vertical-align: middle;\n    }\n\n    .dataframe tbody tr th {\n        vertical-align: top;\n    }\n\n    .dataframe thead th {\n        text-align: right;\n    }\n</style>\n<table border=\"1\" class=\"dataframe\">\n  <thead>\n    <tr style=\"text-align: right;\">\n      <th></th>\n      <th>0</th>\n      <th>1</th>\n      <th>2</th>\n      <th>3</th>\n      <th>4</th>\n      <th>5</th>\n      <th>6</th>\n      <th>7</th>\n      <th>8</th>\n      <th>9</th>\n      <th>10</th>\n      <th>11</th>\n      <th>12</th>\n      <th>13</th>\n    </tr>\n  </thead>\n  <tbody>\n    <tr>\n      <th>0</th>\n      <td>250</td>\n      <td>250</td>\n      <td>250</td>\n      <td>250</td>\n      <td>382</td>\n      <td>216</td>\n      <td>268</td>\n      <td>134</td>\n      <td>1</td>\n      <td>0.00</td>\n      <td>0.00</td>\n      <td>0.00</td>\n      <td>2</td>\n      <td>0</td>\n    </tr>\n    <tr>\n      <th>1</th>\n      <td>245</td>\n      <td>261</td>\n      <td>247</td>\n      <td>247</td>\n      <td>382</td>\n      <td>216</td>\n      <td>268</td>\n      <td>134</td>\n      <td>1</td>\n      <td>-0.16</td>\n      <td>-0.02</td>\n      <td>-0.02</td>\n      <td>2</td>\n      <td>1</td>\n    </tr>\n    <tr>\n      <th>2</th>\n      <td>235</td>\n      <td>310</td>\n      <td>247</td>\n      <td>208</td>\n      <td>382</td>\n      <td>216</td>\n      <td>268</td>\n      <td>134</td>\n      <td>1</td>\n      <td>-0.75</td>\n      <td>-0.12</td>\n      <td>0.27</td>\n      <td>2</td>\n      <td>1</td>\n    </tr>\n    <tr>\n      <th>3</th>\n      <td>325</td>\n      <td>220</td>\n      <td>247</td>\n      <td>208</td>\n      <td>382</td>\n      <td>216</td>\n      <td>268</td>\n      <td>134</td>\n      <td>1</td>\n      <td>1.05</td>\n      <td>0.78</td>\n      <td>1.17</td>\n      <td>2</td>\n      <td>2</td>\n    </tr>\n    <tr>\n      <th>4</th>\n      <td>325</td>\n      <td>220</td>\n      <td>272</td>\n      <td>183</td>\n      <td>382</td>\n      <td>216</td>\n      <td>268</td>\n      <td>134</td>\n      <td>1</td>\n      <td>1.05</td>\n      <td>0.53</td>\n      <td>1.42</td>\n      <td>2</td>\n      <td>2</td>\n    </tr>\n    <tr>\n      <th>...</th>\n      <td>...</td>\n      <td>...</td>\n      <td>...</td>\n      <td>...</td>\n      <td>...</td>\n      <td>...</td>\n      <td>...</td>\n      <td>...</td>\n      <td>...</td>\n      <td>...</td>\n      <td>...</td>\n      <td>...</td>\n      <td>...</td>\n      <td>...</td>\n    </tr>\n    <tr>\n      <th>206607</th>\n      <td>200</td>\n      <td>440</td>\n      <td>120</td>\n      <td>240</td>\n      <td>220</td>\n      <td>420</td>\n      <td>120</td>\n      <td>240</td>\n      <td>1</td>\n      <td>-2.40</td>\n      <td>0.80</td>\n      <td>-0.40</td>\n      <td>13</td>\n      <td>3</td>\n    </tr>\n    <tr>\n      <th>206608</th>\n      <td>250</td>\n      <td>250</td>\n      <td>250</td>\n      <td>250</td>\n      <td>357</td>\n      <td>384</td>\n      <td>105</td>\n      <td>154</td>\n      <td>1</td>\n      <td>0.00</td>\n      <td>0.00</td>\n      <td>0.00</td>\n      <td>7</td>\n      <td>0</td>\n    </tr>\n    <tr>\n      <th>206609</th>\n      <td>250</td>\n      <td>340</td>\n      <td>160</td>\n      <td>250</td>\n      <td>357</td>\n      <td>384</td>\n      <td>105</td>\n      <td>154</td>\n      <td>1</td>\n      <td>-0.90</td>\n      <td>0.90</td>\n      <td>0.00</td>\n      <td>7</td>\n      <td>1</td>\n    </tr>\n    <tr>\n      <th>206610</th>\n      <td>265</td>\n      <td>325</td>\n      <td>145</td>\n      <td>255</td>\n      <td>357</td>\n      <td>384</td>\n      <td>105</td>\n      <td>154</td>\n      <td>1</td>\n      <td>-0.60</td>\n      <td>1.20</td>\n      <td>0.10</td>\n      <td>7</td>\n      <td>2</td>\n    </tr>\n    <tr>\n      <th>206611</th>\n      <td>357</td>\n      <td>304</td>\n      <td>105</td>\n      <td>234</td>\n      <td>357</td>\n      <td>384</td>\n      <td>105</td>\n      <td>154</td>\n      <td>1</td>\n      <td>0.53</td>\n      <td>2.52</td>\n      <td>1.23</td>\n      <td>7</td>\n      <td>3</td>\n    </tr>\n  </tbody>\n</table>\n<p>206612 rows × 14 columns</p>\n</div>"
     },
     "metadata": {},
     "execution_count": 3
    }
   ],
   "source": [
    "df"
   ]
  },
  {
   "cell_type": "markdown",
   "metadata": {},
   "source": [
    "# 予測関数\n",
    "- predict_proba→クラスの分類確率（合計1になる）"
   ]
  },
  {
   "cell_type": "code",
   "execution_count": 4,
   "metadata": {},
   "outputs": [],
   "source": [
    "class Ranking:\n",
    "    def __init__(self, clfs):\n",
    "        self.clfs = clfs\n",
    "        self.coeff = 10000\n",
    "\n",
    "    def predict(self, kyoku, score):\n",
    "        print('kyoku = ', kyoku)\n",
    "        print('score = ', score)\n",
    "        \n",
    "        feature = np.array([[(score[0]-score[1])/self.coeff, (score[0]-score[2])/self.coeff, (score[0]-score[3])/self.coeff]])\n",
    "        print('feature = ', feature)\n",
    "        \n",
    "        proba = self.clfs[kyoku].predict_proba(feature)[0]\n",
    "        print('proba = ', proba)\n",
    "        \n",
    "        \n",
    "        return np.array([ \\\n",
    "                         [ \\\n",
    "                          proba[0]+proba[1]+proba[2]+proba[3]+proba[4]+proba[5], \\\n",
    "                          proba[6]+proba[7]+proba[8]+proba[9]+proba[10]+proba[11], \\\n",
    "                          proba[12]+proba[13]+proba[14]+proba[15]+proba[16]+proba[17], \\\n",
    "                          proba[18]+proba[19]+proba[20]+proba[21]+proba[22]+proba[23], \\\n",
    "                         ], \\\n",
    "                         [ \\\n",
    "                          proba[6]+proba[7]+proba[12]+proba[13]+proba[18]+proba[19], \\\n",
    "                          proba[0]+proba[1]+proba[14]+proba[15]+proba[20]+proba[21], \\\n",
    "                          proba[2]+proba[3]+proba[8]+proba[9]+proba[22]+proba[23], \\\n",
    "                          proba[4]+proba[5]+proba[10]+proba[11]+proba[16]+proba[17], \\\n",
    "                         ], \\\n",
    "                         [ \\\n",
    "                          proba[8]+proba[10]+proba[14]+proba[16]+proba[20]+proba[22], \\\n",
    "                          proba[2]+proba[4]+proba[12]+proba[17]+proba[18]+proba[23], \\\n",
    "                          proba[0]+proba[5]+proba[6]+proba[11]+proba[19]+proba[21], \\\n",
    "                          proba[1]+proba[3]+proba[7]+proba[9]+proba[13]+proba[15], \\\n",
    "                         ], \\\n",
    "                         [ \\\n",
    "                          proba[9]+proba[11]+proba[15]+proba[17]+proba[21]+proba[23], \\\n",
    "                          proba[3]+proba[5]+proba[13]+proba[16]+proba[19]+proba[22], \\\n",
    "                          proba[1]+proba[4]+proba[7]+proba[10]+proba[18]+proba[20], \\\n",
    "                          proba[0]+proba[2]+proba[6]+proba[8]+proba[12]+proba[14], \\\n",
    "                         ] \\\n",
    "                        ])\n"
   ]
  },
  {
   "cell_type": "code",
   "execution_count": 5,
   "metadata": {
    "scrolled": false
   },
   "outputs": [
    {
     "output_type": "display_data",
     "data": {
      "text/plain": "     9     10    11\n0  0.00  0.00  0.00\n6  0.00  0.00  0.00\n7  0.30  0.40  0.30\n8  0.60  0.40  0.60\n9  1.34  1.14  2.08",
      "text/html": "<div>\n<style scoped>\n    .dataframe tbody tr th:only-of-type {\n        vertical-align: middle;\n    }\n\n    .dataframe tbody tr th {\n        vertical-align: top;\n    }\n\n    .dataframe thead th {\n        text-align: right;\n    }\n</style>\n<table border=\"1\" class=\"dataframe\">\n  <thead>\n    <tr style=\"text-align: right;\">\n      <th></th>\n      <th>9</th>\n      <th>10</th>\n      <th>11</th>\n    </tr>\n  </thead>\n  <tbody>\n    <tr>\n      <th>0</th>\n      <td>0.00</td>\n      <td>0.00</td>\n      <td>0.00</td>\n    </tr>\n    <tr>\n      <th>6</th>\n      <td>0.00</td>\n      <td>0.00</td>\n      <td>0.00</td>\n    </tr>\n    <tr>\n      <th>7</th>\n      <td>0.30</td>\n      <td>0.40</td>\n      <td>0.30</td>\n    </tr>\n    <tr>\n      <th>8</th>\n      <td>0.60</td>\n      <td>0.40</td>\n      <td>0.60</td>\n    </tr>\n    <tr>\n      <th>9</th>\n      <td>1.34</td>\n      <td>1.14</td>\n      <td>2.08</td>\n    </tr>\n  </tbody>\n</table>\n</div>"
     },
     "metadata": {}
    },
    {
     "output_type": "display_data",
     "data": {
      "text/plain": "0    2\n6    0\n7    0\n8    0\n9    0\nName: 12, dtype: int64"
     },
     "metadata": {}
    },
    {
     "output_type": "stream",
     "name": "stdout",
     "text": [
      "0 Accuracy (train) : 0.07244196044711952\n0 Accuracy (test)  : 0.07184502539025767\n"
     ]
    },
    {
     "output_type": "display_data",
     "data": {
      "text/plain": "      9     10    11\n1  -0.16 -0.02 -0.02\n2  -0.75 -0.12  0.27\n11  1.32  2.04  3.08\n17  0.41  1.24  2.07\n23  0.00  0.80 -0.80",
      "text/html": "<div>\n<style scoped>\n    .dataframe tbody tr th:only-of-type {\n        vertical-align: middle;\n    }\n\n    .dataframe tbody tr th {\n        vertical-align: top;\n    }\n\n    .dataframe thead th {\n        text-align: right;\n    }\n</style>\n<table border=\"1\" class=\"dataframe\">\n  <thead>\n    <tr style=\"text-align: right;\">\n      <th></th>\n      <th>9</th>\n      <th>10</th>\n      <th>11</th>\n    </tr>\n  </thead>\n  <tbody>\n    <tr>\n      <th>1</th>\n      <td>-0.16</td>\n      <td>-0.02</td>\n      <td>-0.02</td>\n    </tr>\n    <tr>\n      <th>2</th>\n      <td>-0.75</td>\n      <td>-0.12</td>\n      <td>0.27</td>\n    </tr>\n    <tr>\n      <th>11</th>\n      <td>1.32</td>\n      <td>2.04</td>\n      <td>3.08</td>\n    </tr>\n    <tr>\n      <th>17</th>\n      <td>0.41</td>\n      <td>1.24</td>\n      <td>2.07</td>\n    </tr>\n    <tr>\n      <th>23</th>\n      <td>0.00</td>\n      <td>0.80</td>\n      <td>-0.80</td>\n    </tr>\n  </tbody>\n</table>\n</div>"
     },
     "metadata": {}
    },
    {
     "output_type": "display_data",
     "data": {
      "text/plain": "1      2\n2      2\n11     0\n17     9\n23    23\nName: 12, dtype: int64"
     },
     "metadata": {}
    },
    {
     "output_type": "stream",
     "name": "stdout",
     "text": [
      "1 Accuracy (train) : 0.14373525053509686\n1 Accuracy (test)  : 0.14451274170828532\n"
     ]
    },
    {
     "output_type": "display_data",
     "data": {
      "text/plain": "      9     10    11\n3   1.05  0.78  1.17\n4   1.05  0.53  1.42\n12  1.58  2.17  3.21\n18  0.41  0.94  1.77\n24  0.78  1.45 -0.15",
      "text/html": "<div>\n<style scoped>\n    .dataframe tbody tr th:only-of-type {\n        vertical-align: middle;\n    }\n\n    .dataframe tbody tr th {\n        vertical-align: top;\n    }\n\n    .dataframe thead th {\n        text-align: right;\n    }\n</style>\n<table border=\"1\" class=\"dataframe\">\n  <thead>\n    <tr style=\"text-align: right;\">\n      <th></th>\n      <th>9</th>\n      <th>10</th>\n      <th>11</th>\n    </tr>\n  </thead>\n  <tbody>\n    <tr>\n      <th>3</th>\n      <td>1.05</td>\n      <td>0.78</td>\n      <td>1.17</td>\n    </tr>\n    <tr>\n      <th>4</th>\n      <td>1.05</td>\n      <td>0.53</td>\n      <td>1.42</td>\n    </tr>\n    <tr>\n      <th>12</th>\n      <td>1.58</td>\n      <td>2.17</td>\n      <td>3.21</td>\n    </tr>\n    <tr>\n      <th>18</th>\n      <td>0.41</td>\n      <td>0.94</td>\n      <td>1.77</td>\n    </tr>\n    <tr>\n      <th>24</th>\n      <td>0.78</td>\n      <td>1.45</td>\n      <td>-0.15</td>\n    </tr>\n  </tbody>\n</table>\n</div>"
     },
     "metadata": {}
    },
    {
     "output_type": "display_data",
     "data": {
      "text/plain": "3      2\n4      2\n12     0\n18     9\n24    23\nName: 12, dtype: int64"
     },
     "metadata": {}
    },
    {
     "output_type": "stream",
     "name": "stdout",
     "text": [
      "2 Accuracy (train) : 0.23610527200874465\n2 Accuracy (test)  : 0.2376405963902694\n"
     ]
    },
    {
     "output_type": "display_data",
     "data": {
      "text/plain": "      9     10    11\n5   1.47  0.95  2.26\n13  1.83  2.47  3.46\n19  0.41  1.14  0.73\n20  0.41  1.72  0.15\n27 -0.70 -1.69 -2.05",
      "text/html": "<div>\n<style scoped>\n    .dataframe tbody tr th:only-of-type {\n        vertical-align: middle;\n    }\n\n    .dataframe tbody tr th {\n        vertical-align: top;\n    }\n\n    .dataframe thead th {\n        text-align: right;\n    }\n</style>\n<table border=\"1\" class=\"dataframe\">\n  <thead>\n    <tr style=\"text-align: right;\">\n      <th></th>\n      <th>9</th>\n      <th>10</th>\n      <th>11</th>\n    </tr>\n  </thead>\n  <tbody>\n    <tr>\n      <th>5</th>\n      <td>1.47</td>\n      <td>0.95</td>\n      <td>2.26</td>\n    </tr>\n    <tr>\n      <th>13</th>\n      <td>1.83</td>\n      <td>2.47</td>\n      <td>3.46</td>\n    </tr>\n    <tr>\n      <th>19</th>\n      <td>0.41</td>\n      <td>1.14</td>\n      <td>0.73</td>\n    </tr>\n    <tr>\n      <th>20</th>\n      <td>0.41</td>\n      <td>1.72</td>\n      <td>0.15</td>\n    </tr>\n    <tr>\n      <th>27</th>\n      <td>-0.70</td>\n      <td>-1.69</td>\n      <td>-2.05</td>\n    </tr>\n  </tbody>\n</table>\n</div>"
     },
     "metadata": {}
    },
    {
     "output_type": "display_data",
     "data": {
      "text/plain": "5      2\n13     0\n19     9\n20     9\n27    23\nName: 12, dtype: int64"
     },
     "metadata": {}
    },
    {
     "output_type": "stream",
     "name": "stdout",
     "text": [
      "3 Accuracy (train) : 0.3883307830483667\n3 Accuracy (test)  : 0.3838869916175101\n"
     ]
    }
   ],
   "source": [
    "if __name__ == '__main__':\n",
    "    clfs = []\n",
    "    \n",
    "    for i in range(4):\n",
    "        clfs.append(LogisticRegression(tol=1e-6, random_state=0, verbose=0))\n",
    "        clf = clfs[-1]\n",
    "        x = df[df[13] == i].iloc[:, 9:12]\n",
    "        y = df[df[13] == i].iloc[:, 12]\n",
    "        \n",
    "        x_train, x_test, y_train, y_test = train_test_split(x, y, test_size=0.3, random_state=0)\n",
    "        clf.fit(x_train, y_train)\n",
    "\n",
    "        print('{} Accuracy (train) :'.format(i), clf.score(x_train, y_train))\n",
    "        print('{} Accuracy (test)  :'.format(i), clf.score(x_test, y_test))\n",
    "\n",
    "    with open('score_predictor.bin', mode='wb') as f:\n",
    "        pickle.dump(clfs, f)"
   ]
  },
  {
   "cell_type": "markdown",
   "metadata": {},
   "source": [
    "# 予測実行"
   ]
  },
  {
   "cell_type": "code",
   "execution_count": 6,
   "metadata": {},
   "outputs": [
    {
     "output_type": "stream",
     "name": "stdout",
     "text": [
      "kyoku =  1\nscore =  [25000 25000 25000 25000]\nfeature =  [[0. 0. 0.]]\nproba =  [0.03780821 0.03477596 0.03975546 0.03277106 0.04091074 0.03467876\n 0.04390173 0.04205591 0.04580837 0.0474545  0.04279215 0.04817692\n 0.04524193 0.03650204 0.04599467 0.04850306 0.04050735 0.04724344\n 0.03701322 0.03571082 0.03845481 0.0462948  0.03701013 0.05063392]\n"
     ]
    },
    {
     "output_type": "execute_result",
     "data": {
      "text/plain": [
       "array([[0.2207002 , 0.27018959, 0.2639925 , 0.24511771],\n",
       "       [0.24042566, 0.25183152, 0.25343344, 0.25430937],\n",
       "       [0.25056749, 0.26079872, 0.24657125, 0.24206254],\n",
       "       [0.28830664, 0.21718017, 0.2360028 , 0.25851038]])"
      ]
     },
     "metadata": {},
     "execution_count": 6
    }
   ],
   "source": [
    "# f = np.array([25000, 25000, 33000, 17000])\n",
    "# f = np.array([50000, 25000, 25000, 0])\n",
    "f = np.array([25000, 25000, 25000, 25000])\n",
    "p = pickle.load(open('score_predictor.bin', 'rb'))\n",
    "r = Ranking(p)\n",
    "r.predict(1, f)"
   ]
  },
  {
   "cell_type": "code",
   "execution_count": null,
   "metadata": {},
   "outputs": [],
   "source": []
  }
 ],
 "metadata": {
  "kernelspec": {
   "display_name": "Python 3",
   "language": "python",
   "name": "python3"
  },
  "language_info": {
   "codemirror_mode": {
    "name": "ipython",
    "version": 3
   },
   "file_extension": ".py",
   "mimetype": "text/x-python",
   "name": "python",
   "nbconvert_exporter": "python",
   "pygments_lexer": "ipython3",
   "version": "3.8.6"
  }
 },
 "nbformat": 4,
 "nbformat_minor": 4
}