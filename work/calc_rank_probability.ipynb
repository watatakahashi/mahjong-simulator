{
 "cells": [
  {
   "cell_type": "code",
   "execution_count": 1,
   "metadata": {},
   "outputs": [],
   "source": [
    "import pandas as pd\n",
    "import numpy as np\n",
    "import pickle\n",
    "from train_score import Ranking\n",
    "import os\n",
    "import openpyxl\n",
    "FNAME = '押し引きシミュレーター.xlsx'\n",
    "wb=openpyxl.load_workbook(FNAME)"
   ]
  },
  {
   "cell_type": "code",
   "execution_count": 2,
   "metadata": {},
   "outputs": [
    {
     "name": "stdout",
     "output_type": "stream",
     "text": [
      "[[0.21981544 0.2726554  0.2651835  0.24234566]\n",
      " [0.27375166 0.26413387 0.2420128  0.22010168]\n",
      " [0.22006526 0.24453762 0.25488844 0.28050868]\n",
      " [0.28636765 0.21867311 0.23791526 0.25704398]]\n"
     ]
    }
   ],
   "source": [
    "p = pickle.load(open('score_predictor.bin', 'rb'))\n",
    "f = np.array([25000, 26000, 24000, 25000])\n",
    "r = Ranking(p)\n",
    "ret = r.predict(1, f)\n",
    "print(ret)"
   ]
  },
  {
   "cell_type": "code",
   "execution_count": 3,
   "metadata": {},
   "outputs": [],
   "source": [
    "def main():\n",
    "    result, point = calc_rank_probability([24000, 25000, 25000, 25000], 1000, 30, 2)\n",
    "    display(result)\n",
    "    display(point)\n",
    "\n",
    "    # シートへの書き込み\n",
    "    sheet = wb['入力項目']\n",
    "    ROW_START = 17\n",
    "    COL_START = 2\n",
    "    for row in range(6):\n",
    "        # 4人の素点\n",
    "        for col in range(4):\n",
    "            sheet.cell(ROW_START + row, COL_START + col).value = point[roｗ][col]\n",
    "        # 各順位の確率\n",
    "        for col in range(4):\n",
    "            sheet.cell(ROW_START + row, COL_START + 5 + col).value = result[roｗ][col]\n",
    "    \n",
    "    wb.save(FNAME)"
   ]
  },
  {
   "cell_type": "code",
   "execution_count": 4,
   "metadata": {},
   "outputs": [],
   "source": [
    "# P1を親、P2（自分）を子想定\n",
    "\n",
    "def calc_rank_probability(point_list, deposit, hu, han):\n",
    "    \"\"\"\n",
    "    point_list: 4人の点数\n",
    "    deposit: 供託\n",
    "    hu: 自分アガリ時の符\n",
    "    han: 自分アガリ時の翻数\n",
    "    \"\"\"\n",
    "    p = pickle.load(open('score_predictor.bin', 'rb'))\n",
    "    r = Ranking(p)\n",
    "    \n",
    "#     自分をP2、相手(親)をP1とする\n",
    "    P1 = point_list[0]\n",
    "    P2 = point_list[1]\n",
    "    P3 = point_list[2]\n",
    "    P4 = point_list[3]\n",
    "    DEPOSIT = deposit\n",
    "    \n",
    "    result = []\n",
    "    point = []\n",
    "    \n",
    "#     自分の点数を求める\n",
    "    tensu_df = pd.read_csv('点数表.csv')\n",
    "    df = tensu_df[(tensu_df['符'] == hu) & (tensu_df['翻数'] == han)]\n",
    "    display(df)\n",
    "    \n",
    "    # P2のツモ\n",
    "    p1 = P1 - df['子ツモ親'].values[0]\n",
    "    p2 = P2 + df['子ツモ親'].values[0] + df['子ツモ子'].values[0] * 2 + DEPOSIT\n",
    "    p3 = P3 - df['子ツモ子'].values[0]\n",
    "    p4 = P4 - df['子ツモ子'].values[0]\n",
    "    \n",
    "    f = np.array([p1, p2, p3, p4])\n",
    "    ret = r.predict(1, f)\n",
    "#     print(ret)\n",
    "    result.append(ret[1])\n",
    "    point.append([p1, p2, p3, p4])\n",
    "    \n",
    "    # P2のロン\n",
    "    p1 = P1 - df['子ロン'].values[0]\n",
    "    p2 = P2 +  df['子ロン'].values[0]  + DEPOSIT\n",
    "    p3 = P3\n",
    "    p4 = P4\n",
    "    \n",
    "    f = np.array([p1, p2, p3, p4])\n",
    "    ret = r.predict(1, f)\n",
    "#     print(ret)\n",
    "    result.append(ret[1])\n",
    "    point.append([p1, p2, p3, p4])\n",
    "    \n",
    "    \n",
    "    # P1のツモ\n",
    "#     平均打点は一発なしで10000点なので30符4ハンで計算する\n",
    "    p1 = P1 + 12000 + DEPOSIT\n",
    "    p2 = P2 - 4000\n",
    "    p3 = P3 - 4000\n",
    "    p4 = P4 - 4000\n",
    "\n",
    "    f = np.array([p1, p2, p3, p4])\n",
    "    ret = r.predict(0, f)\n",
    "    result.append(ret[1])\n",
    "    point.append([p1, p2, p3, p4])\n",
    "    \n",
    "    \n",
    "    # P1のロン\n",
    "#     平均打点は一発なしで7500点なので40符3ハンで計算する\n",
    "    p1 = P1 + 7700 + DEPOSIT\n",
    "    p2 = P2 - 7700\n",
    "    p3 = P3\n",
    "    p4 = P4\n",
    "\n",
    "    f = np.array([p1, p2, p3, p4])\n",
    "    ret = r.predict(0, f)\n",
    "    result.append(ret[1])\n",
    "    point.append([p1, p2, p3, p4])\n",
    "    \n",
    "    \n",
    "    # テンパイ流局\n",
    "    p1 = P1+ 1500\n",
    "    p2 = P2 + 1500\n",
    "    p3 = P3 -  1500\n",
    "    p4 = P4 - 1500\n",
    "    f = np.array([p1, p2, p3, p4])\n",
    "    ret = r.predict(0, f)\n",
    "    result.append(ret[1])\n",
    "    point.append([p1, p2, p3, p4])\n",
    "    \n",
    "    \n",
    "    # ノーテン流局\n",
    "    p1 = P1 + 3000\n",
    "    p2 = P2 - 1000\n",
    "    p3 = P3 -  1000\n",
    "    p4 = P4 - 1000\n",
    "    f = np.array([p1, p2, p3, p4])\n",
    "    ret = r.predict(0, f)\n",
    "    result.append(ret[1])\n",
    "    point.append([p1, p2, p3, p4])\n",
    "    \n",
    "    \n",
    "#     display(result)\n",
    "    return result, point"
   ]
  },
  {
   "cell_type": "code",
   "execution_count": 5,
   "metadata": {},
   "outputs": [
    {
     "data": {
      "text/html": [
       "<div>\n",
       "<style scoped>\n",
       "    .dataframe tbody tr th:only-of-type {\n",
       "        vertical-align: middle;\n",
       "    }\n",
       "\n",
       "    .dataframe tbody tr th {\n",
       "        vertical-align: top;\n",
       "    }\n",
       "\n",
       "    .dataframe thead th {\n",
       "        text-align: right;\n",
       "    }\n",
       "</style>\n",
       "<table border=\"1\" class=\"dataframe\">\n",
       "  <thead>\n",
       "    <tr style=\"text-align: right;\">\n",
       "      <th></th>\n",
       "      <th>符</th>\n",
       "      <th>翻数</th>\n",
       "      <th>親ツモ</th>\n",
       "      <th>親ロン</th>\n",
       "      <th>子ツモ親</th>\n",
       "      <th>子ツモ子</th>\n",
       "      <th>子ロン</th>\n",
       "    </tr>\n",
       "  </thead>\n",
       "  <tbody>\n",
       "    <tr>\n",
       "      <th>7</th>\n",
       "      <td>30</td>\n",
       "      <td>2</td>\n",
       "      <td>1000.0</td>\n",
       "      <td>2900.0</td>\n",
       "      <td>1000.0</td>\n",
       "      <td>500.0</td>\n",
       "      <td>2000.0</td>\n",
       "    </tr>\n",
       "  </tbody>\n",
       "</table>\n",
       "</div>"
      ],
      "text/plain": [
       "    符  翻数     親ツモ     親ロン    子ツモ親   子ツモ子     子ロン\n",
       "7  30   2  1000.0  2900.0  1000.0  500.0  2000.0"
      ]
     },
     "metadata": {},
     "output_type": "display_data"
    },
    {
     "data": {
      "text/plain": [
       "[array([0.34421577, 0.28294327, 0.21346344, 0.15937752]),\n",
       " array([0.34226312, 0.28597121, 0.21407824, 0.15768742]),\n",
       " array([0.13638239, 0.25251932, 0.30497661, 0.30612169]),\n",
       " array([0.11285384, 0.17060429, 0.24084924, 0.47569264]),\n",
       " array([0.2704659 , 0.26325541, 0.26187188, 0.20440681]),\n",
       " array([0.22816185, 0.24415774, 0.26399055, 0.26368986])]"
      ]
     },
     "metadata": {},
     "output_type": "display_data"
    },
    {
     "data": {
      "text/plain": [
       "[[23000.0, 28000.0, 24500.0, 24500.0],\n",
       " [22000.0, 28000.0, 25000, 25000],\n",
       " [37000, 21000, 21000, 21000],\n",
       " [32700, 17300, 25000, 25000],\n",
       " [25500, 26500, 23500, 23500],\n",
       " [27000, 24000, 24000, 24000]]"
      ]
     },
     "metadata": {},
     "output_type": "display_data"
    }
   ],
   "source": [
    "main()"
   ]
  },
  {
   "cell_type": "code",
   "execution_count": null,
   "metadata": {},
   "outputs": [],
   "source": []
  },
  {
   "cell_type": "code",
   "execution_count": null,
   "metadata": {},
   "outputs": [],
   "source": []
  }
 ],
 "metadata": {
  "kernelspec": {
   "display_name": "Python 3",
   "language": "python",
   "name": "python3"
  },
  "language_info": {
   "codemirror_mode": {
    "name": "ipython",
    "version": 3
   },
   "file_extension": ".py",
   "mimetype": "text/x-python",
   "name": "python",
   "nbconvert_exporter": "python",
   "pygments_lexer": "ipython3",
   "version": "3.8.6"
  }
 },
 "nbformat": 4,
 "nbformat_minor": 4
}
