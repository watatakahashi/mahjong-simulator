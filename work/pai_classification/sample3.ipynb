{
 "cells": [
  {
   "cell_type": "code",
   "execution_count": 24,
   "metadata": {},
   "outputs": [],
   "source": [
    "import pandas as pd\n",
    "import numpy as np\n",
    "from PIL import Image\n",
    "import glob\n",
    "import os\n",
    "import pickle\n",
    "\n",
    "import scipy.stats\n",
    "from sklearn.preprocessing import MinMaxScaler\n",
    "import keras\n",
    "from keras.models import Sequential\n",
    "from keras.layers import Dense, Dropout, Activation\n",
    "from keras.optimizers import SGD"
   ]
  },
  {
   "cell_type": "code",
   "execution_count": 25,
   "metadata": {
    "scrolled": false
   },
   "outputs": [
    {
     "name": "stdout",
     "output_type": "stream",
     "text": [
      "jantama-pai-images/1m2m5m8m3p4p0p5p7p6s3z3z4z.png (252, 1850)\n",
      "jantama-pai-images/1m2m5m8m3p4p0p5p7p6s3z3z4z.png (128, 128)\n",
      "[[45 44 44 ... 46 46 46]\n",
      " [46 46 46 ... 49 49 50]\n",
      " [50 50 50 ... 51 51 51]\n",
      " ...\n",
      " [59 59 59 ... 58 58 57]\n",
      " [57 57 57 ... 57 57 57]\n",
      " [57 57 57 ... 54 53 53]]\n",
      "1258131410151726323233\n",
      "jantama-pai-images/1m2m8m8m2s3s4s6s8s2z3z7z7z.png (244, 1848)\n",
      "jantama-pai-images/1m2m8m8m2s3s4s6s8s2z3z7z7z.png (128, 128)\n",
      "[[45 45 45 ... 46 46 45]\n",
      " [46 47 47 ... 49 50 50]\n",
      " [50 49 49 ... 53 53 53]\n",
      " ...\n",
      " [58 57 57 ... 58 58 58]\n",
      " [58 58 58 ... 58 57 57]\n",
      " [56 56 56 ... 53 53 53]]\n",
      "1288222324262831323636\n",
      "jantama-pai-images/1m4m6m6m7m2p8p1s1s4s5s4z6z.png (236, 1844)\n",
      "jantama-pai-images/1m4m6m6m7m2p8p1s1s4s5s4z6z.png (128, 128)\n",
      "[[ 46  46  47 ...  44  44  45]\n",
      " [ 45  45  45 ...  49  48  48]\n",
      " [ 48  48  48 ...  52  52  52]\n",
      " ...\n",
      " [125 125 125 ... 125 125 125]\n",
      " [125 125 125 ... 125 125 125]\n",
      " [125 125 125 ... 125 125 125]]\n",
      "146671218212124253335\n",
      "jantama-pai-images/2m5p9p1s2s4s4s4s7s9s4z5z6z.png (248, 1856)\n",
      "jantama-pai-images/2m5p9p1s2s4s4s4s7s9s4z5z6z.png (128, 128)\n",
      "[[45 45 45 ... 46 46 47]\n",
      " [47 46 46 ... 48 48 48]\n",
      " [49 49 49 ... 50 50 51]\n",
      " ...\n",
      " [60 60 60 ... 60 60 60]\n",
      " [60 60 60 ... 59 58 58]\n",
      " [58 58 58 ... 58 57 57]]\n",
      "2151921222424242729333435\n"
     ]
    }
   ],
   "source": [
    "# train_x = np.empty((0, 90,66,4))\n",
    "train_x = np.empty((0, 90*66))\n",
    "# train_x = np.array()\n",
    "train_y = np.empty((0, 1))\n",
    "files = glob.glob('jantama-pai-images/*')\n",
    "for file in files:\n",
    "    img = np.array(Image.open(file).convert('L'))\n",
    "    print(file, img.shape)\n",
    "    img.resize((128, 128))\n",
    "    print(file, img.shape)\n",
    "    print(img)\n",
    "    fname = file[file.find('/')+1:].split(\".png\")[0]\n",
    "    fname = fname.replace('0m', '0').replace('1m', '1').replace('2m', '2').replace('3m', '3').replace('4m', '4')\\\n",
    "    .replace('5m', '5').replace('6m', '6').replace('7m', '7').replace('8m', '8').replace('9m', '9')\\\n",
    "    .replace('0p', '10').replace('1p', '11').replace('2p', '12').replace('3p', '13').replace('4p', '14')\\\n",
    "    .replace('5p', '15').replace('6p', '16').replace('7p', '17').replace('8p', '18').replace('9p', '19')\\\n",
    "    .replace('0s', '20').replace('1s', '21').replace('2s', '22').replace('3s', '23').replace('4s', '24')\\\n",
    "    .replace('5s', '25').replace('6s', '26').replace('7s', '27').replace('8s', '28').replace('9s', '29')\\\n",
    "    .replace('1z', '30').replace('2z', '31').replace('3z', '32').replace('4z', '33').replace('5z', '34')\\\n",
    "    .replace('6z', '35').replace('7z', '36')\n",
    "    print(fname)\n",
    "#     x = fname.find('-')\n",
    "#     train_x = np.vstack((train_x, [img.flatten()]))\n",
    "#     train_y = np.vstack((train_y, [fname[0:x]]))\n",
    "# print('train_x.shape', train_x.shape)\n",
    "# print('train_y.shape', train_y.shape)\n",
    "# train_y = pd.get_dummies(pd.DataFrame(train_y)).values\n",
    "# print('train_y.shape', train_y.shape)"
   ]
  },
  {
   "cell_type": "code",
   "execution_count": null,
   "metadata": {},
   "outputs": [],
   "source": []
  },
  {
   "cell_type": "code",
   "execution_count": null,
   "metadata": {},
   "outputs": [],
   "source": []
  }
 ],
 "metadata": {
  "kernelspec": {
   "display_name": "Python 3",
   "language": "python",
   "name": "python3"
  },
  "language_info": {
   "codemirror_mode": {
    "name": "ipython",
    "version": 3
   },
   "file_extension": ".py",
   "mimetype": "text/x-python",
   "name": "python",
   "nbconvert_exporter": "python",
   "pygments_lexer": "ipython3",
   "version": "3.8.6"
  }
 },
 "nbformat": 4,
 "nbformat_minor": 4
}
