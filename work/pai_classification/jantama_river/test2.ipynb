{
 "cells": [
  {
   "cell_type": "markdown",
   "metadata": {},
   "source": [
    "# 牌を探す"
   ]
  },
  {
   "cell_type": "code",
   "execution_count": 1,
   "metadata": {},
   "outputs": [],
   "source": [
    "# import pyautogui\n",
    "from PIL import Image\n",
    "import cv2\n",
    "import numpy as np\n",
    "import time\n",
    "import os"
   ]
  },
  {
   "cell_type": "code",
   "execution_count": 2,
   "metadata": {},
   "outputs": [],
   "source": [
    "img = cv2.imread('screenshot.png')\n",
    "img_RGB = cv2.cvtColor(img, cv2.COLOR_BGR2Lab)\n",
    "img_blue, img_green, img_red = cv2.split(img_RGB)\n",
    "img_gray = cv2.cvtColor(img, cv2.IMREAD_GRAYSCALE)\n",
    "# img1 = img.copy()\n",
    "# shot[: , : , 0] += 40"
   ]
  },
  {
   "cell_type": "code",
   "execution_count": 3,
   "metadata": {},
   "outputs": [],
   "source": [
    "# shot[: , : , 0] += 40\n",
    "ret, img1 = cv2.threshold(img_red,170,255,cv2.THRESH_BINARY)\n",
    "# ret, img1 = cv2.threshold(img,200,255,cv2.THRESH_BINARY_INV)\n",
    "ret, img2 = cv2.threshold(img,180,255,cv2.THRESH_BINARY_INV)\n",
    "# img3 = cv2.add(img1, img2)"
   ]
  },
  {
   "cell_type": "code",
   "execution_count": 4,
   "metadata": {},
   "outputs": [
    {
     "data": {
      "text/plain": [
       "True"
      ]
     },
     "execution_count": 4,
     "metadata": {},
     "output_type": "execute_result"
    }
   ],
   "source": [
    "cv2.imwrite('screenshot_red.png', img_red)\n",
    "cv2.imwrite('screenshot_blue.png', img_blue)\n",
    "cv2.imwrite('screenshot_green.png', img_green)\n",
    "cv2.imwrite('screenshot1.png', img1)\n",
    "cv2.imwrite('screenshot2.png', img2)\n",
    "# cv2.imwrite('screenshot3.png', img3)"
   ]
  },
  {
   "cell_type": "code",
   "execution_count": null,
   "metadata": {},
   "outputs": [],
   "source": []
  }
 ],
 "metadata": {
  "kernelspec": {
   "display_name": "Python 3",
   "language": "python",
   "name": "python3"
  },
  "language_info": {
   "codemirror_mode": {
    "name": "ipython",
    "version": 3
   },
   "file_extension": ".py",
   "mimetype": "text/x-python",
   "name": "python",
   "nbconvert_exporter": "python",
   "pygments_lexer": "ipython3",
   "version": "3.8.6"
  }
 },
 "nbformat": 4,
 "nbformat_minor": 4
}
