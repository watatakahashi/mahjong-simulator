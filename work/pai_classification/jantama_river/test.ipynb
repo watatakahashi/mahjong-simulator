{
 "cells": [
  {
   "cell_type": "markdown",
   "metadata": {},
   "source": [
    "# 対面の河の画像認識"
   ]
  },
  {
   "cell_type": "code",
   "execution_count": null,
   "metadata": {},
   "outputs": [],
   "source": [
    "import pyautogui\n",
    "from PIL import Image\n",
    "import cv2\n",
    "import numpy as np\n",
    "import time\n",
    "import os\n",
    "\n",
    "start = time.time()"
   ]
  },
  {
   "cell_type": "code",
   "execution_count": 2,
   "metadata": {},
   "outputs": [],
   "source": [
    "PAI_LIST = ['1m', '2m', '3m', '4m', '5m', '6m', '7m', '8m', '9m',\n",
    "             '1p', '2p', '3p', '4p', '5p', '6p', '7p', '8p', '9p',\n",
    "             '1s', '2s', '3s', '4s', '5s', '6s', '7s', '8s', '9s',\n",
    "             '1z', '2z', '3z', '4z', '5z', '6z', '7z', '0m', '0p', '0s']\n"
   ]
  },
  {
   "cell_type": "markdown",
   "metadata": {},
   "source": []
  },
  {
   "cell_type": "code",
   "execution_count": null,
   "metadata": {},
   "outputs": [],
   "source": [
    "screenshot = pyautogui.screenshot('screenshot.png')\n",
    "img = Image.open('screenshot.png')\n",
    "\n",
    "# for index in range(6):\n",
    "#     x1 = first_pai_x - (pai_width * index) - (pai_diff * index)\n",
    "#     x2 = first_pai_x + pai_width - (pai_width * index) - (pai_diff * index)\n",
    "#     im_crop = img.crop((x1, y1, x2, y2))\n",
    "#     im_crop.save('pais/' + str(index) + '.png', quality=95)"
   ]
  },
  {
   "cell_type": "code",
   "execution_count": null,
   "metadata": {},
   "outputs": [],
   "source": [
    "\n",
    "    "
   ]
  },
  {
   "cell_type": "code",
   "execution_count": null,
   "metadata": {},
   "outputs": [],
   "source": [
    "def grayscale_matching(index, temp, img):\n",
    "\n",
    "    img_copy = img.copy()\n",
    "    \n",
    "#     切り抜きを保存\n",
    "    cv2.imwrite(\"pais/\" + str(index) + \".png\", temp)\n",
    "        \n",
    "#     グレースケール変換\n",
    "    gray = cv2.cvtColor(img, cv2.COLOR_RGB2GRAY)\n",
    "    temp_gray = cv2.cvtColor(temp, cv2.COLOR_RGB2GRAY)\n",
    "\n",
    "    # テンプレート画像の高さ・幅\n",
    "    h, w = temp_gray.shape\n",
    "    \n",
    "    # テンプレートマッチング（OpenCVで実装）\n",
    "    match = cv2.matchTemplate(gray, temp_gray, cv2.TM_SQDIFF)\n",
    "    min_value, max_value, min_pt, max_pt = cv2.minMaxLoc(match)\n",
    "    pt = min_pt\n",
    "    \n",
    "    # # テンプレートマッチングの結果を出力\n",
    "    cv2.rectangle(img_copy, (pt[0], pt[1]), (pt[0] + w, pt[1] + h), (0, 0, 200), 3)\n",
    "    cv2.imwrite(\"pais/result\" + str(index) + \".png\", img_copy)"
   ]
  },
  {
   "cell_type": "markdown",
   "metadata": {},
   "source": [
    "- 1牌目→横1600,1670、縦563,621\n",
    "- 二段目→横1600,1665、縦490,551"
   ]
  },
  {
   "cell_type": "code",
   "execution_count": null,
   "metadata": {},
   "outputs": [],
   "source": [
    "img_path = \"pais/pai_list.jpg\"\n",
    "# img_path = \"screenshot.png\"\n",
    "if os.path.isfile(img_path):\n",
    "    img = cv2.imread(img_path)\n",
    "else:\n",
    "    print(img_path, 'ファイルが存在しません')\n",
    "    \n",
    "# スクショの読み込み\n",
    "shot = cv2.imread('screenshot.png')\n",
    "\n",
    "# screenshot = pyautogui.screenshot()\n",
    "# shot = pil2cv(screenshot)\n",
    "\n",
    "# display_pais = []\n",
    "\n",
    "\n",
    "\n",
    "# 一段目\n",
    "y1 = 563\n",
    "y2 = 623\n",
    "# pai_height = 60\n",
    "pai_width = 71\n",
    "first_pai_x = 1600\n",
    "pai_diff = 9\n",
    "\n",
    "for index in range(6):\n",
    "    #     スクショからの切り抜き\n",
    "    x1 = first_pai_x - (pai_width * index) - (pai_diff * index)\n",
    "    x2 = first_pai_x + pai_width - (pai_width * index) - (pai_diff * index)\n",
    "    temp = shot[y1:y2, x1:x2, :]\n",
    "#     実行\n",
    "    pai = grayscale_matching(index, temp, img)\n",
    "    \n",
    "# 2段目\n",
    "y1 = 495\n",
    "y2 = 551\n",
    "# pai_height = 60\n",
    "pai_width = 65\n",
    "first_pai_x = 1600\n",
    "pai_diff = 11\n",
    "\n",
    "for index in range(6):\n",
    "    #     スクショからの切り抜き\n",
    "    x1 = first_pai_x - (pai_width * index) - (pai_diff * index)\n",
    "    x2 = first_pai_x + pai_width - (pai_width * index) - (pai_diff * index)\n",
    "    temp = shot[y1:y2, x1:x2, :]\n",
    "#     実行\n",
    "    pai = grayscale_matching(index + 6, temp, img)\n",
    "\n",
    "# 3段目\n",
    "y1 = 432\n",
    "y2 = 484\n",
    "# pai_height = 60\n",
    "pai_width = 65\n",
    "first_pai_x = 1600\n",
    "pai_diff = 11\n",
    "\n",
    "for index in range(5):\n",
    "    #     スクショからの切り抜き\n",
    "    x1 = first_pai_x - (pai_width * index) - (pai_diff * index)\n",
    "    x2 = first_pai_x + pai_width - (pai_width * index) - (pai_diff * index)\n",
    "    temp = shot[y1:y2, x1:x2, :]\n",
    "#     実行\n",
    "    pai = grayscale_matching(index + 12, temp, img)"
   ]
  }
 ],
 "metadata": {
  "kernelspec": {
   "display_name": "Python 3",
   "language": "python",
   "name": "python3"
  },
  "language_info": {
   "codemirror_mode": {
    "name": "ipython",
    "version": 3
   },
   "file_extension": ".py",
   "mimetype": "text/x-python",
   "name": "python",
   "nbconvert_exporter": "python",
   "pygments_lexer": "ipython3",
   "version": "3.8.6"
  }
 },
 "nbformat": 4,
 "nbformat_minor": 4
}
