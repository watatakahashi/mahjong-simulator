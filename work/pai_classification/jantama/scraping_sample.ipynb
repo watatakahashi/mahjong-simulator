{
 "cells": [
  {
   "cell_type": "markdown",
   "metadata": {},
   "source": [
    "# スクレイピングのサンプル"
   ]
  },
  {
   "cell_type": "code",
   "execution_count": null,
   "metadata": {},
   "outputs": [],
   "source": [
    "from requests_html import HTMLSession\n",
    "\n",
    "url = \"https://tenhou.net/2/?q=2335m4568p1258s6z6p\"\n",
    "\n",
    "# セッション開始\n",
    "session = HTMLSession()\n",
    "r = session.get(url)\n",
    "r.html.render()\n",
    "\n",
    "textarea_elem = r.html.find(\"textarea\", first=True)\n",
    "print(textarea_elem.html)   "
   ]
  },
  {
   "cell_type": "code",
   "execution_count": null,
   "metadata": {},
   "outputs": [],
   "source": []
  }
 ],
 "metadata": {
  "kernelspec": {
   "display_name": "Python 3",
   "language": "python",
   "name": "python3"
  },
  "language_info": {
   "codemirror_mode": {
    "name": "ipython",
    "version": 3
   },
   "file_extension": ".py",
   "mimetype": "text/x-python",
   "name": "python",
   "nbconvert_exporter": "python",
   "pygments_lexer": "ipython3",
   "version": "3.8.6"
  }
 },
 "nbformat": 4,
 "nbformat_minor": 4
}
