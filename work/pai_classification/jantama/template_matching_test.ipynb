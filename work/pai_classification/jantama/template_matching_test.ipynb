{
 "cells": [
  {
   "cell_type": "code",
   "execution_count": null,
   "metadata": {
    "scrolled": true
   },
   "outputs": [],
   "source": [
    "import pyautogui\n",
    "from PIL import Image\n",
    "import cv2\n",
    "import numpy as np\n",
    "import time\n",
    "import os\n",
    "from requests_html import HTMLSession\n",
    "\n",
    "\n",
    "start = time.time()"
   ]
  },
  {
   "cell_type": "code",
   "execution_count": 2,
   "metadata": {},
   "outputs": [],
   "source": [
    "PAI_LIST = ['1m', '2m', '3m', '4m', '5m', '6m', '7m', '8m', '9m',\n",
    "             '1p', '2p', '3p', '4p', '5p', '6p', '7p', '8p', '9p',\n",
    "             '1s', '2s', '3s', '4s', '5s', '6s', '7s', '8s', '9s',\n",
    "             '1z', '2z', '3z', '4z', '5z', '6z', '7z', '0m', '0p', '0s', 'x']\n",
    "PAI_LIST_X = [1,140,278,415,558,696,833,967,1104,\n",
    "             1241,1380,1518,1657,1796,1934,2072,2208,2347,\n",
    "             2487,2625,2767,2905,3042,3181,3319,3458,3595,\n",
    "             3732,3869,4004,4151,4291,4427,4570,4705,4840,4990, 5130]"
   ]
  },
  {
   "cell_type": "code",
   "execution_count": null,
   "metadata": {},
   "outputs": [],
   "source": [
    "# screenshot = pyautogui.screenshot('screenshot.png')\n",
    "# print('screenshot=', screenshot)\n",
    "\n",
    "# 指定範囲を取る場合\n",
    "# sc = pyautogui.screenshot(region=(100, 200, 300, 400))"
   ]
  },
  {
   "cell_type": "code",
   "execution_count": null,
   "metadata": {},
   "outputs": [],
   "source": [
    "# img = Image.open('screenshot.png')\n",
    "\n",
    "# 横幅\n",
    "y1 = 1590\n",
    "y2 = 1787\n",
    "pai_width = 135\n",
    "first_pai_x = 350\n",
    "pai_diff = 5\n",
    "\n",
    "tsumo_x = 2220\n",
    "\n",
    "# for index in range(13):\n",
    "#     x1 = first_pai_x + (pai_width * index) + (pai_diff * index)\n",
    "#     x2 = first_pai_x + pai_width * (index + 1) + (pai_diff * index)\n",
    "#     im_crop = img.crop((x1, y1, x2, y2))\n",
    "#     im_crop.save('pais/' + str(index) + '.png', quality=95)"
   ]
  },
  {
   "cell_type": "code",
   "execution_count": null,
   "metadata": {},
   "outputs": [],
   "source": [
    "def getNearestValue(list, num):\n",
    "    \"\"\"\n",
    "    概要: リストからある値に最も近い値を返却する関数\n",
    "    @param list: データ配列\n",
    "    @param num: 対象値\n",
    "    @return 対象値に最も近い値\n",
    "    \"\"\"\n",
    "\n",
    "    # リスト要素と対象値の差分を計算し最小値のインデックスを取得\n",
    "    idx = np.abs(np.asarray(list) - num).argmin()\n",
    "    return idx\n",
    "#     return list[idx]"
   ]
  },
  {
   "cell_type": "code",
   "execution_count": null,
   "metadata": {},
   "outputs": [],
   "source": [
    "def pil2cv(image):\n",
    "    ''' PIL型 -> OpenCV型 '''\n",
    "    new_image = np.array(image, dtype=np.uint8)\n",
    "    if new_image.ndim == 2:  # モノクロ\n",
    "        pass\n",
    "    elif new_image.shape[2] == 3:  # カラー\n",
    "        new_image = cv2.cvtColor(new_image, cv2.COLOR_RGB2BGR)\n",
    "    elif new_image.shape[2] == 4:  # 透過\n",
    "        new_image = cv2.cvtColor(new_image, cv2.COLOR_RGBA2BGRA)\n",
    "    return new_image"
   ]
  },
  {
   "cell_type": "code",
   "execution_count": null,
   "metadata": {},
   "outputs": [],
   "source": [
    "def save_pai_image(img):\n",
    "    ''' 切り取った牌をを保存する '''\n",
    "    pass"
   ]
  },
  {
   "cell_type": "code",
   "execution_count": null,
   "metadata": {},
   "outputs": [],
   "source": [
    "def pai_efficiency(pais):\n",
    "    \n",
    "    url = \"https://tenhou.net/2/?q=\" + str(pais)\n",
    "    # セッション開始\n",
    "    session = HTMLSession()\n",
    "    r = session.get(url)\n",
    "    r.html.render()\n",
    "\n",
    "    textarea_elem = r.html.find(\"textarea\", first=True)\n",
    "    print(textarea_elem.html)   "
   ]
  },
  {
   "cell_type": "code",
   "execution_count": null,
   "metadata": {},
   "outputs": [],
   "source": [
    "def remove_x_pai(pais_str):\n",
    "    \"\"\" ツモってないxを削除する \"\"\"\n",
    "    return pais_str.replace('x', '')"
   ]
  },
  {
   "cell_type": "markdown",
   "metadata": {},
   "source": [
    "# テンプレートマッチング実行"
   ]
  },
  {
   "cell_type": "code",
   "execution_count": 4,
   "metadata": {},
   "outputs": [],
   "source": [
    "def grayscale_matching(index, temp, img):\n",
    "    img_copy = img.copy()\n",
    "#     切り抜きの保存\n",
    "#     cv2.imwrite(\"pais/\" + str(index) + \".png\", temp)\n",
    "\n",
    "#     赤判定用\n",
    "#     img_bgr = cv2.split(temp)\n",
    "#     print(index, '赤色平均', np.mean(img_bgr[2]))\n",
    "    \n",
    "#     hantei = img_bgr[2] - (img_bgr[0] + img_bgr[1]) / 2\n",
    "#     print(index, '判定値', np.count_nonzero(hantei > 0))\n",
    "    \n",
    "#     グレースケール変換\n",
    "    gray = cv2.cvtColor(img, cv2.COLOR_RGB2GRAY)\n",
    "    temp_gray = cv2.cvtColor(temp, cv2.COLOR_RGB2GRAY)\n",
    "\n",
    "    # テンプレート画像の高さ・幅\n",
    "    h, w = temp_gray.shape\n",
    "    \n",
    "    # テンプレートマッチング（OpenCVで実装）\n",
    "    match = cv2.matchTemplate(gray, temp_gray, cv2.TM_SQDIFF)\n",
    "    min_value, max_value, min_pt, max_pt = cv2.minMaxLoc(match)\n",
    "    pt = min_pt\n",
    "    \n",
    "    pai = PAI_LIST[getNearestValue(PAI_LIST_X, pt[0])]\n",
    "    \n",
    "    # # テンプレートマッチングの結果を出力\n",
    "#     cv2.rectangle(img_copy, (pt[0], pt[1]), (pt[0] + w, pt[1] + h), (0, 0, 200), 3)\n",
    "#     cv2.imwrite(\"pais/result\" + str(index) + \".png\", img_copy)\n",
    "    return pai"
   ]
  },
  {
   "cell_type": "code",
   "execution_count": null,
   "metadata": {},
   "outputs": [],
   "source": [
    "def color_matching(index):\n",
    "    temp = cv2.imread('pais/' + str(index) + '.png')\n",
    "    img2 = img.copy()\n",
    "    \n",
    "    #カラー読み込みなのでひとつ要素が多い。\n",
    "    s,w,h=temp.shape[::-1]\n",
    "\n",
    "    res = cv2.matchTemplate(img,temp,cv2.TM_CCOEFF_NORMED)\n",
    "    #max_locが画像の左上からの位置。\n",
    "    min_val, max_val, min_loc, max_loc = cv2.minMaxLoc(res)\n",
    "    \n",
    "    pt = max_loc\n",
    "    print(index, '.pngの座標イチ', pt)\n",
    "    \n",
    "\n",
    "    #黒色(0,0,0)の四角で囲む。\n",
    "    cv2.rectangle(img2, max_loc, (max_loc[0] + w, max_loc[1] + h), (0,0,200),4)\n",
    "    cv2.imwrite(\"pais/result\" + str(index) + \".png\", img2)\n",
    "   "
   ]
  },
  {
   "cell_type": "code",
   "execution_count": null,
   "metadata": {},
   "outputs": [],
   "source": [
    "def main(img):\n",
    "    # スクショの読み込み\n",
    "    # shot = cv2.imread('screenshot.png')\n",
    "\n",
    "    screenshot = pyautogui.screenshot()\n",
    "    shot = pil2cv(screenshot)\n",
    "    display_pais = []\n",
    "    \n",
    "    for index in range(14):\n",
    "        #     スクショからの切り抜き\n",
    "        x1 = first_pai_x + (pai_width * index) + (pai_diff * index)\n",
    "        x2 = first_pai_x + pai_width * (index + 1) + (pai_diff * index)\n",
    "#         ツモ牌のみ例外\n",
    "        if index == 13:\n",
    "            x1, x2 = tsumo_x, tsumo_x + pai_width\n",
    "        temp = shot[y1:y2, x1:x2, :]\n",
    "        \n",
    "#         実行\n",
    "        pai = grayscale_matching(index, temp, img)\n",
    "        display_pais.append(pai)\n",
    "#     print(display_pais)\n",
    "    \n",
    "#     ツモ牌がある場合は牌効率にかける\n",
    "    try:\n",
    "        x_index = display_pais.index('x')\n",
    "        display_pais = display_pais[:x_index]\n",
    "    except:pass\n",
    "#     print(display_pais)\n",
    "#     print('手牌数=', len(display_pais))\n",
    "    if len(display_pais) in [5, 8, 11, 14]:\n",
    "        print(display_pais)\n",
    "#         print('牌効率算出')\n",
    "        display_pais_str = ''.join(display_pais)\n",
    "        pai_efficiency(display_pais_str)"
   ]
  },
  {
   "cell_type": "markdown",
   "metadata": {},
   "source": [
    "# メイン処理"
   ]
  },
  {
   "cell_type": "code",
   "execution_count": null,
   "metadata": {},
   "outputs": [],
   "source": [
    "print('実行開始')\n",
    "\n",
    "img_path = \"pais/pai_list.jpg\"\n",
    "if os.path.isfile(img_path):\n",
    "    img = cv2.imread(img_path)\n",
    "else:\n",
    "    print(img_path, 'ファイルが存在しません')\n",
    "\n",
    "for i in range(100):\n",
    "#     print(i,'回目')\n",
    "    main(img)\n",
    "print('実行終了')"
   ]
  },
  {
   "cell_type": "code",
   "execution_count": null,
   "metadata": {},
   "outputs": [],
   "source": [
    "# # グレースケール変換\n",
    "# gray = cv2.cvtColor(img, cv2.COLOR_RGB2GRAY)\n",
    "# temp = cv2.cvtColor(temp, cv2.COLOR_RGB2GRAY)\n",
    "\n",
    "# # テンプレート画像の高さ・幅\n",
    "# h, w = temp.shape\n",
    "\n",
    "# # テンプレートマッチング（OpenCVで実装）\n",
    "# match = cv2.matchTemplate(gray, temp, cv2.TM_SQDIFF)\n",
    "# min_value, max_value, min_pt, max_pt = cv2.minMaxLoc(match)\n",
    "# pt = min_pt\n",
    "\n",
    "# # テンプレートマッチングの結果を出力\n",
    "# cv2.rectangle(img, (pt[0], pt[1]), (pt[0] + w, pt[1] + h), (0, 0, 200), 3)\n",
    "# cv2.imwrite(\"pais/result.png\", img)"
   ]
  },
  {
   "cell_type": "code",
   "execution_count": null,
   "metadata": {},
   "outputs": [],
   "source": [
    "elapsed_time = time.time() - start\n",
    "print (\"elapsed_time:{0}\".format(elapsed_time) + \"[sec]\")"
   ]
  }
 ],
 "metadata": {
  "kernelspec": {
   "display_name": "Python 3",
   "language": "python",
   "name": "python3"
  },
  "language_info": {
   "codemirror_mode": {
    "name": "ipython",
    "version": 3
   },
   "file_extension": ".py",
   "mimetype": "text/x-python",
   "name": "python",
   "nbconvert_exporter": "python",
   "pygments_lexer": "ipython3",
   "version": "3.8.6"
  }
 },
 "nbformat": 4,
 "nbformat_minor": 4
}
